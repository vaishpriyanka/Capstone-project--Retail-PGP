{
 "cells": [
  {
   "cell_type": "markdown",
   "id": "6d1f83f0",
   "metadata": {},
   "source": [
    "## Capstone Project: Retail - PGP"
   ]
  },
  {
   "cell_type": "markdown",
   "id": "51012334",
   "metadata": {},
   "source": [
    "**Problem Statement:**\n",
    "* It is a critical requirement for business to understand the value derived from a customer. RFM is a method used for analyzing customer value.\n",
    "* Customer segmentation is the practice of segregating the customer base into groups of individuals based on some common characteristics such as age, gender, interests, and spending habits\n",
    "* Perform customer segmentation using RFM analysis. The resulting segments can be ordered from most valuable (highest recency, frequency, and value) to least valuable (lowest recency, frequency, and value).\n",
    "\n",
    "**Dataset Description:** \n",
    "    This is a transnational data set which contains all the transactions that occurred between 01/12/2010 and 09/12/2011 for a UK-based and registered non-store online retail. The company mainly sells unique and all-occasion gifts.\n",
    "\n",
    "* **InvoiceNo:** Invoice number. Nominal, a 6-digit integral number uniquely assigned to each transaction. If this code starts with letter 'c', it indicates a cancellation. \n",
    "* **StockCode:** Product (item) code. Nominal, a 5-digit integral number uniquely assigned to each distinct product. \n",
    "* **Description:** Product (item) name. Nominal. \n",
    "* **Quantity:** The quantities of each product (item) per transaction. Numeric. \n",
    "* **InvoiceDate:** Invoice Date and time. Numeric, the day and time when each transaction was generated. \n",
    "* **UnitPrice:** Unit price. Numeric, Product price per unit in sterling. \n",
    "* **CustomerID:** Customer number. Nominal, a 5-digit integral number uniquely assigned to each customer. \n",
    "* **Country:** Country name. Nominal, the name of the country where each customer resides.\n"
   ]
  },
  {
   "cell_type": "markdown",
   "id": "cc9cf7e1",
   "metadata": {},
   "source": [
    "### Project Task: Week 1:\n",
    "**Data Cleaning:**\n",
    "\n",
    "1. Perform a preliminary data inspection and data cleaning.\n",
    "\n",
    "    a. Check for missing data and formulate an apt strategy to treat them.\n",
    "\n",
    "    b. Remove duplicate data records.\n",
    "\n",
    "    c. Perform descriptive analytics on the given data.\n",
    "\n",
    "**Data Transformation:**\n",
    "\n",
    "2. Perform cohort analysis (a cohort is a group of subjects that share a defining characteristic). Observe how a cohort behaves across time and compare it to other cohorts.\n",
    "\n",
    "    a. Create month cohorts and analyze active customers for each cohort.\n",
    "\n",
    "    b. Analyze the retention rate of customers."
   ]
  },
  {
   "cell_type": "markdown",
   "id": "0b30810a",
   "metadata": {},
   "source": [
    "### Project Task: Week 2\n",
    "**Data Modeling :**\n",
    "\n",
    "1. Build a RFM (Recency Frequency Monetary) model. Recency means the number of days since a customer made the last purchase. Frequency is the number of purchase in a given period. It could be 3 months, 6 months or 1 year. Monetary is the total amount of money a customer spent in that given period. Therefore, big spenders will be differentiated among other customers such as MVP (Minimum Viable Product) or VIP.\n",
    "\n",
    "2. Calculate RFM metrics.\n",
    "\n",
    "3. Build RFM Segments. Give recency, frequency, and monetary scores individually by dividing them into quartiles.\n",
    "\n",
    "    b1. Combine three ratings to get a RFM segment (as strings).\n",
    "\n",
    "    b2. Get the RFM score by adding up the three ratings.\n",
    "\n",
    "    b3. Analyze the RFM segments by summarizing them and comment on the findings.\n",
    "\n",
    "**Note:** Rate “recency\" for customer who has been active more recently higher than the less recent customer, because each company wants its customers to be recent.\n",
    "\n",
    "**Note:** Rate “frequency\" and “monetary\" higher, because the company wants the customer to visit more often and spend more money"
   ]
  },
  {
   "cell_type": "markdown",
   "id": "c89999f2",
   "metadata": {},
   "source": [
    "### Project Task: Week 3\n",
    "**Data Modeling :**\n",
    "\n",
    "1. Create clusters using k-means clustering algorithm.\n",
    "\n",
    "    a. Prepare the data for the algorithm. If the data is asymmetrically distributed, manage the skewness with appropriate transformation. Standardize the data.\n",
    "\n",
    "    b. Decide the optimum number of clusters to be formed.\n",
    "\n",
    "    c. Analyze these clusters and comment on the results."
   ]
  },
  {
   "cell_type": "markdown",
   "id": "75912e2e",
   "metadata": {},
   "source": [
    "### Project Task: Week 4\n",
    "**Data Reporting:**\n",
    "\n",
    "1. Create a dashboard in tableau by choosing appropriate chart types and metrics useful for the business. The dashboard must entail the following:\n",
    "\n",
    "    a. Country-wise analysis to demonstrate average spend. Use a bar chart to show the monthly figures\n",
    "\n",
    "    b. Bar graph of top 15 products which are mostly ordered by the users to show the number of products sold\n",
    "\n",
    "    c. Bar graph to show the count of orders vs. hours throughout the day\n",
    "\n",
    "    d. Plot the distribution of RFM values using histogram and frequency charts\n",
    "\n",
    "    e. Plot error (cost) vs. number of clusters selected\n",
    "\n",
    "    f. Visualize to compare the RFM values of the clusters using heatmap"
   ]
  },
  {
   "cell_type": "markdown",
   "id": "73205904",
   "metadata": {},
   "source": [
    "**>>>>>------------------------------------------------------------------------------------------------------------------------------------------------------------------------------------------->>>>>**\n",
    "# SOLUTION:\n",
    "## Week 1:\n",
    "### (A) Data Cleaning\n",
    "**(1) Reading Data and Preliminary Data Inspection**"
   ]
  },
  {
   "cell_type": "code",
   "execution_count": 1,
   "id": "119cd1ed",
   "metadata": {},
   "outputs": [],
   "source": [
    "import pandas as pd\n",
    "import numpy as np\n",
    "import matplotlib.pyplot as plt\n",
    "import seaborn as sns\n",
    "from sklearn.preprocessing import StandardScaler\n",
    "from sklearn.cluster import KMeans\n",
    "from sklearn.metrics import silhouette_score\n",
    "from datetime import timedelta\n",
    "from pandas import ExcelWriter"
   ]
  },
  {
   "cell_type": "code",
   "execution_count": 2,
   "id": "e9eb6e87",
   "metadata": {},
   "outputs": [
    {
     "data": {
      "text/html": [
       "<div>\n",
       "<style scoped>\n",
       "    .dataframe tbody tr th:only-of-type {\n",
       "        vertical-align: middle;\n",
       "    }\n",
       "\n",
       "    .dataframe tbody tr th {\n",
       "        vertical-align: top;\n",
       "    }\n",
       "\n",
       "    .dataframe thead th {\n",
       "        text-align: right;\n",
       "    }\n",
       "</style>\n",
       "<table border=\"1\" class=\"dataframe\">\n",
       "  <thead>\n",
       "    <tr style=\"text-align: right;\">\n",
       "      <th></th>\n",
       "      <th>InvoiceNo</th>\n",
       "      <th>StockCode</th>\n",
       "      <th>Description</th>\n",
       "      <th>Quantity</th>\n",
       "      <th>InvoiceDate</th>\n",
       "      <th>UnitPrice</th>\n",
       "      <th>CustomerID</th>\n",
       "      <th>Country</th>\n",
       "    </tr>\n",
       "  </thead>\n",
       "  <tbody>\n",
       "    <tr>\n",
       "      <th>0</th>\n",
       "      <td>536365</td>\n",
       "      <td>85123A</td>\n",
       "      <td>WHITE HANGING HEART T-LIGHT HOLDER</td>\n",
       "      <td>6</td>\n",
       "      <td>2010-12-01 08:26:00</td>\n",
       "      <td>2.55</td>\n",
       "      <td>17850.0</td>\n",
       "      <td>United Kingdom</td>\n",
       "    </tr>\n",
       "    <tr>\n",
       "      <th>1</th>\n",
       "      <td>536365</td>\n",
       "      <td>71053</td>\n",
       "      <td>WHITE METAL LANTERN</td>\n",
       "      <td>6</td>\n",
       "      <td>2010-12-01 08:26:00</td>\n",
       "      <td>3.39</td>\n",
       "      <td>17850.0</td>\n",
       "      <td>United Kingdom</td>\n",
       "    </tr>\n",
       "    <tr>\n",
       "      <th>2</th>\n",
       "      <td>536365</td>\n",
       "      <td>84406B</td>\n",
       "      <td>CREAM CUPID HEARTS COAT HANGER</td>\n",
       "      <td>8</td>\n",
       "      <td>2010-12-01 08:26:00</td>\n",
       "      <td>2.75</td>\n",
       "      <td>17850.0</td>\n",
       "      <td>United Kingdom</td>\n",
       "    </tr>\n",
       "    <tr>\n",
       "      <th>3</th>\n",
       "      <td>536365</td>\n",
       "      <td>84029G</td>\n",
       "      <td>KNITTED UNION FLAG HOT WATER BOTTLE</td>\n",
       "      <td>6</td>\n",
       "      <td>2010-12-01 08:26:00</td>\n",
       "      <td>3.39</td>\n",
       "      <td>17850.0</td>\n",
       "      <td>United Kingdom</td>\n",
       "    </tr>\n",
       "    <tr>\n",
       "      <th>4</th>\n",
       "      <td>536365</td>\n",
       "      <td>84029E</td>\n",
       "      <td>RED WOOLLY HOTTIE WHITE HEART.</td>\n",
       "      <td>6</td>\n",
       "      <td>2010-12-01 08:26:00</td>\n",
       "      <td>3.39</td>\n",
       "      <td>17850.0</td>\n",
       "      <td>United Kingdom</td>\n",
       "    </tr>\n",
       "  </tbody>\n",
       "</table>\n",
       "</div>"
      ],
      "text/plain": [
       "  InvoiceNo StockCode                          Description  Quantity  \\\n",
       "0    536365    85123A   WHITE HANGING HEART T-LIGHT HOLDER         6   \n",
       "1    536365     71053                  WHITE METAL LANTERN         6   \n",
       "2    536365    84406B       CREAM CUPID HEARTS COAT HANGER         8   \n",
       "3    536365    84029G  KNITTED UNION FLAG HOT WATER BOTTLE         6   \n",
       "4    536365    84029E       RED WOOLLY HOTTIE WHITE HEART.         6   \n",
       "\n",
       "          InvoiceDate  UnitPrice  CustomerID         Country  \n",
       "0 2010-12-01 08:26:00       2.55     17850.0  United Kingdom  \n",
       "1 2010-12-01 08:26:00       3.39     17850.0  United Kingdom  \n",
       "2 2010-12-01 08:26:00       2.75     17850.0  United Kingdom  \n",
       "3 2010-12-01 08:26:00       3.39     17850.0  United Kingdom  \n",
       "4 2010-12-01 08:26:00       3.39     17850.0  United Kingdom  "
      ]
     },
     "execution_count": 2,
     "metadata": {},
     "output_type": "execute_result"
    }
   ],
   "source": [
    "df = pd.read_excel(\"Online Retail.xlsx\")\n",
    "df.head()"
   ]
  },
  {
   "cell_type": "code",
   "execution_count": 3,
   "id": "79a10392",
   "metadata": {},
   "outputs": [
    {
     "data": {
      "text/plain": [
       "(541909, 8)"
      ]
     },
     "execution_count": 3,
     "metadata": {},
     "output_type": "execute_result"
    }
   ],
   "source": [
    "# Check shape of data\n",
    "df.shape"
   ]
  },
  {
   "cell_type": "code",
   "execution_count": 4,
   "id": "edc854c5",
   "metadata": {},
   "outputs": [
    {
     "name": "stdout",
     "output_type": "stream",
     "text": [
      "<class 'pandas.core.frame.DataFrame'>\n",
      "RangeIndex: 541909 entries, 0 to 541908\n",
      "Data columns (total 8 columns):\n",
      " #   Column       Non-Null Count   Dtype         \n",
      "---  ------       --------------   -----         \n",
      " 0   InvoiceNo    541909 non-null  object        \n",
      " 1   StockCode    541909 non-null  object        \n",
      " 2   Description  540455 non-null  object        \n",
      " 3   Quantity     541909 non-null  int64         \n",
      " 4   InvoiceDate  541909 non-null  datetime64[ns]\n",
      " 5   UnitPrice    541909 non-null  float64       \n",
      " 6   CustomerID   406829 non-null  float64       \n",
      " 7   Country      541909 non-null  object        \n",
      "dtypes: datetime64[ns](1), float64(2), int64(1), object(4)\n",
      "memory usage: 33.1+ MB\n"
     ]
    }
   ],
   "source": [
    "# Check feature details of data\n",
    "df.info()"
   ]
  },
  {
   "cell_type": "markdown",
   "id": "c93237bf",
   "metadata": {},
   "source": [
    "* **(a) Missing values treatment:**"
   ]
  },
  {
   "cell_type": "code",
   "execution_count": 5,
   "id": "929eefbe",
   "metadata": {},
   "outputs": [
    {
     "data": {
      "text/plain": [
       "InvoiceNo           0\n",
       "StockCode           0\n",
       "Description      1454\n",
       "Quantity            0\n",
       "InvoiceDate         0\n",
       "UnitPrice           0\n",
       "CustomerID     135080\n",
       "Country             0\n",
       "dtype: int64"
      ]
     },
     "execution_count": 5,
     "metadata": {},
     "output_type": "execute_result"
    }
   ],
   "source": [
    "# Check missing values in data\n",
    "df.isnull().sum()"
   ]
  },
  {
   "cell_type": "code",
   "execution_count": 6,
   "id": "c0af62d6",
   "metadata": {},
   "outputs": [
    {
     "data": {
      "text/plain": [
       "InvoiceNo       0.00\n",
       "StockCode       0.00\n",
       "Description     0.27\n",
       "Quantity        0.00\n",
       "InvoiceDate     0.00\n",
       "UnitPrice       0.00\n",
       "CustomerID     24.93\n",
       "Country         0.00\n",
       "dtype: float64"
      ]
     },
     "execution_count": 6,
     "metadata": {},
     "output_type": "execute_result"
    }
   ],
   "source": [
    "# Calculating the Missing Values % contribution in DF\n",
    "df_null = round(df.isnull().sum()/len(df)*100,2)\n",
    "df_null"
   ]
  },
  {
   "cell_type": "markdown",
   "id": "d71f2a61",
   "metadata": {},
   "source": [
    "As we can see two columns in data have missing values.\n",
    "* Description - 0.27% (1454 nos.)\n",
    "* CustomerID  - 24.93% (135080)\n",
    "\n",
    "**CustomerID** is important feature of our analysis since our analysis is centered around Customers only so we can not impute null values **CustomerID** with mean/ median/ mode in this case. We will check possibility to fill null values in **CustomerID** column by looking up for **InvoiceNo** of the row having null **CustomerID** in other rows where **CustomerID** is present. If there are still any null values in **CustomerID** after this process then we will drop complete row having missing **CustomerID**.\n",
    "\n",
    "We can drop **Description** feature from our data since it is not not going to contribute in our model."
   ]
  },
  {
   "cell_type": "code",
   "execution_count": 7,
   "id": "7579bdd7",
   "metadata": {},
   "outputs": [
    {
     "data": {
      "text/html": [
       "<div>\n",
       "<style scoped>\n",
       "    .dataframe tbody tr th:only-of-type {\n",
       "        vertical-align: middle;\n",
       "    }\n",
       "\n",
       "    .dataframe tbody tr th {\n",
       "        vertical-align: top;\n",
       "    }\n",
       "\n",
       "    .dataframe thead th {\n",
       "        text-align: right;\n",
       "    }\n",
       "</style>\n",
       "<table border=\"1\" class=\"dataframe\">\n",
       "  <thead>\n",
       "    <tr style=\"text-align: right;\">\n",
       "      <th></th>\n",
       "      <th>InvoiceNo</th>\n",
       "      <th>StockCode</th>\n",
       "      <th>Description</th>\n",
       "      <th>Quantity</th>\n",
       "      <th>InvoiceDate</th>\n",
       "      <th>UnitPrice</th>\n",
       "      <th>CustomerID</th>\n",
       "      <th>Country</th>\n",
       "    </tr>\n",
       "  </thead>\n",
       "  <tbody>\n",
       "  </tbody>\n",
       "</table>\n",
       "</div>"
      ],
      "text/plain": [
       "Empty DataFrame\n",
       "Columns: [InvoiceNo, StockCode, Description, Quantity, InvoiceDate, UnitPrice, CustomerID, Country]\n",
       "Index: []"
      ]
     },
     "execution_count": 7,
     "metadata": {},
     "output_type": "execute_result"
    }
   ],
   "source": [
    "invoice_null_custid = set(df[df['CustomerID'].isnull()]['InvoiceNo'])\n",
    "df[df['InvoiceNo'].isin(invoice_null_custid) & (~df['CustomerID'].isnull())]"
   ]
  },
  {
   "cell_type": "markdown",
   "id": "54418a40",
   "metadata": {},
   "source": [
    "We could not find any value to impute null values in **CustomerID** column since all entries for a particular **InvoiceNo** have missing **CustomerID** if that particular **InvoiceNo** has null **CustomerID** in even one entry. So we will drop all rows having null values in **CustomerID**."
   ]
  },
  {
   "cell_type": "code",
   "execution_count": 8,
   "id": "c317502c",
   "metadata": {},
   "outputs": [
    {
     "data": {
      "text/plain": [
       "(406829, 7)"
      ]
     },
     "execution_count": 8,
     "metadata": {},
     "output_type": "execute_result"
    }
   ],
   "source": [
    "df = df.drop('Description', axis=1)\n",
    "df = df.dropna()\n",
    "df.shape"
   ]
  },
  {
   "cell_type": "markdown",
   "id": "83dffc18",
   "metadata": {},
   "source": [
    "* **(b) Remove duplicate data records:** Since our data is transactional data and it has duplicate entries for InvoiceNo and CustomerID, we will drop only those rows which are completely duplicated, not on the basis of any one particular column such as InvoiceNo or CustomerID etc."
   ]
  },
  {
   "cell_type": "code",
   "execution_count": 9,
   "id": "4348a3d7",
   "metadata": {},
   "outputs": [
    {
     "data": {
      "text/plain": [
       "(401602, 7)"
      ]
     },
     "execution_count": 9,
     "metadata": {},
     "output_type": "execute_result"
    }
   ],
   "source": [
    "df = df.drop_duplicates()\n",
    "df.shape"
   ]
  },
  {
   "cell_type": "markdown",
   "id": "7c445ce3",
   "metadata": {},
   "source": [
    "* **(c) Perform descriptive anaylysis on the given data:**"
   ]
  },
  {
   "cell_type": "code",
   "execution_count": 10,
   "id": "7cbb5ef0",
   "metadata": {},
   "outputs": [],
   "source": [
    "# CustomerID is 'float64', changing the datatype of CustomerId to string as Customer ID as numerical data does not make sense\n",
    "\n",
    "df['CustomerID'] = df['CustomerID'].astype(str)"
   ]
  },
  {
   "cell_type": "code",
   "execution_count": 11,
   "id": "750e7895",
   "metadata": {},
   "outputs": [
    {
     "data": {
      "text/html": [
       "<div>\n",
       "<style scoped>\n",
       "    .dataframe tbody tr th:only-of-type {\n",
       "        vertical-align: middle;\n",
       "    }\n",
       "\n",
       "    .dataframe tbody tr th {\n",
       "        vertical-align: top;\n",
       "    }\n",
       "\n",
       "    .dataframe thead th {\n",
       "        text-align: right;\n",
       "    }\n",
       "</style>\n",
       "<table border=\"1\" class=\"dataframe\">\n",
       "  <thead>\n",
       "    <tr style=\"text-align: right;\">\n",
       "      <th></th>\n",
       "      <th>Quantity</th>\n",
       "      <th>InvoiceDate</th>\n",
       "      <th>UnitPrice</th>\n",
       "    </tr>\n",
       "  </thead>\n",
       "  <tbody>\n",
       "    <tr>\n",
       "      <th>count</th>\n",
       "      <td>401602.000000</td>\n",
       "      <td>401602</td>\n",
       "      <td>401602.000000</td>\n",
       "    </tr>\n",
       "    <tr>\n",
       "      <th>mean</th>\n",
       "      <td>12.182579</td>\n",
       "      <td>2011-07-10 12:08:08.129839872</td>\n",
       "      <td>3.474064</td>\n",
       "    </tr>\n",
       "    <tr>\n",
       "      <th>min</th>\n",
       "      <td>-80995.000000</td>\n",
       "      <td>2010-12-01 08:26:00</td>\n",
       "      <td>0.000000</td>\n",
       "    </tr>\n",
       "    <tr>\n",
       "      <th>25%</th>\n",
       "      <td>2.000000</td>\n",
       "      <td>2011-04-06 15:02:00</td>\n",
       "      <td>1.250000</td>\n",
       "    </tr>\n",
       "    <tr>\n",
       "      <th>50%</th>\n",
       "      <td>5.000000</td>\n",
       "      <td>2011-07-29 15:40:00</td>\n",
       "      <td>1.950000</td>\n",
       "    </tr>\n",
       "    <tr>\n",
       "      <th>75%</th>\n",
       "      <td>12.000000</td>\n",
       "      <td>2011-10-20 11:58:00</td>\n",
       "      <td>3.750000</td>\n",
       "    </tr>\n",
       "    <tr>\n",
       "      <th>max</th>\n",
       "      <td>80995.000000</td>\n",
       "      <td>2011-12-09 12:50:00</td>\n",
       "      <td>38970.000000</td>\n",
       "    </tr>\n",
       "    <tr>\n",
       "      <th>std</th>\n",
       "      <td>250.283248</td>\n",
       "      <td>NaN</td>\n",
       "      <td>69.764209</td>\n",
       "    </tr>\n",
       "  </tbody>\n",
       "</table>\n",
       "</div>"
      ],
      "text/plain": [
       "            Quantity                    InvoiceDate      UnitPrice\n",
       "count  401602.000000                         401602  401602.000000\n",
       "mean       12.182579  2011-07-10 12:08:08.129839872       3.474064\n",
       "min    -80995.000000            2010-12-01 08:26:00       0.000000\n",
       "25%         2.000000            2011-04-06 15:02:00       1.250000\n",
       "50%         5.000000            2011-07-29 15:40:00       1.950000\n",
       "75%        12.000000            2011-10-20 11:58:00       3.750000\n",
       "max     80995.000000            2011-12-09 12:50:00   38970.000000\n",
       "std       250.283248                            NaN      69.764209"
      ]
     },
     "execution_count": 11,
     "metadata": {},
     "output_type": "execute_result"
    }
   ],
   "source": [
    "df.describe(datetime_is_numeric=True)"
   ]
  },
  {
   "cell_type": "markdown",
   "id": "438f718b",
   "metadata": {},
   "source": [
    "* **Quantity:** Average quantity of each product in transaction is 12.18. Also note that minimum value in **Quantity** column is negative. This implies that some customers had returned the product during our period of analysis.\n",
    "* **InvoiceDate:** Our data has transaction between 01-12-2010 to 09-12-2011\n",
    "* **UnitPrice:** Average price of each product in transactions is 3.47"
   ]
  },
  {
   "cell_type": "code",
   "execution_count": 12,
   "id": "3293e34b",
   "metadata": {},
   "outputs": [
    {
     "data": {
      "text/html": [
       "<div>\n",
       "<style scoped>\n",
       "    .dataframe tbody tr th:only-of-type {\n",
       "        vertical-align: middle;\n",
       "    }\n",
       "\n",
       "    .dataframe tbody tr th {\n",
       "        vertical-align: top;\n",
       "    }\n",
       "\n",
       "    .dataframe thead th {\n",
       "        text-align: right;\n",
       "    }\n",
       "</style>\n",
       "<table border=\"1\" class=\"dataframe\">\n",
       "  <thead>\n",
       "    <tr style=\"text-align: right;\">\n",
       "      <th></th>\n",
       "      <th>InvoiceNo</th>\n",
       "      <th>StockCode</th>\n",
       "      <th>CustomerID</th>\n",
       "      <th>Country</th>\n",
       "    </tr>\n",
       "  </thead>\n",
       "  <tbody>\n",
       "    <tr>\n",
       "      <th>count</th>\n",
       "      <td>401602</td>\n",
       "      <td>401602</td>\n",
       "      <td>401602</td>\n",
       "      <td>401602</td>\n",
       "    </tr>\n",
       "    <tr>\n",
       "      <th>unique</th>\n",
       "      <td>22190</td>\n",
       "      <td>3684</td>\n",
       "      <td>4372</td>\n",
       "      <td>37</td>\n",
       "    </tr>\n",
       "    <tr>\n",
       "      <th>top</th>\n",
       "      <td>576339</td>\n",
       "      <td>85123A</td>\n",
       "      <td>17841.0</td>\n",
       "      <td>United Kingdom</td>\n",
       "    </tr>\n",
       "    <tr>\n",
       "      <th>freq</th>\n",
       "      <td>542</td>\n",
       "      <td>2065</td>\n",
       "      <td>7812</td>\n",
       "      <td>356726</td>\n",
       "    </tr>\n",
       "  </tbody>\n",
       "</table>\n",
       "</div>"
      ],
      "text/plain": [
       "        InvoiceNo StockCode CustomerID         Country\n",
       "count      401602    401602     401602          401602\n",
       "unique      22190      3684       4372              37\n",
       "top        576339    85123A    17841.0  United Kingdom\n",
       "freq          542      2065       7812          356726"
      ]
     },
     "execution_count": 12,
     "metadata": {},
     "output_type": "execute_result"
    }
   ],
   "source": [
    "df.describe(include=['O'])"
   ]
  },
  {
   "cell_type": "markdown",
   "id": "48b29e2f",
   "metadata": {},
   "source": [
    "* **InvoiceNo:** Total entries in preprocessed data are 4,01,602 but transactions are 22,190. Most number of entries (count of unique products) are in Invoice No. '576339' and is 542 nos.\n",
    "* **StockCode:** There are total 3684 unique products in our data and product with stock code '85123A' appears most frequently (2065 times) in our data.\n",
    "* **CustomerID:** There are 4372 unique customers in our final preprocessed data. Customer with ID '17841' appears most frequently in data (7812 times)\n",
    "* **Country:** Company has customers across 37 countries. Most entries are from United Kingdom in our dataset (356726)"
   ]
  },
  {
   "cell_type": "markdown",
   "id": "8487cec9",
   "metadata": {},
   "source": [
    "### (B) Data Transformation\n",
    "**(2) Perform Cohort Analysis**\n",
    "* **(a) Create month cohort of customers and analyze active customers in each cohort:**"
   ]
  },
  {
   "cell_type": "code",
   "execution_count": 13,
   "id": "72f3e042",
   "metadata": {},
   "outputs": [
    {
     "data": {
      "text/plain": [
       "13"
      ]
     },
     "execution_count": 13,
     "metadata": {},
     "output_type": "execute_result"
    }
   ],
   "source": [
    "# Convert to InvoiceDate to Year-Month format\n",
    "df['month_year'] = df['InvoiceDate'].dt.to_period('M')\n",
    "df['month_year'].nunique()"
   ]
  },
  {
   "cell_type": "code",
   "execution_count": 14,
   "id": "df1f3a82",
   "metadata": {},
   "outputs": [
    {
     "data": {
      "text/plain": [
       "month_year\n",
       "2010-12     948\n",
       "2011-01     783\n",
       "2011-02     798\n",
       "2011-03    1020\n",
       "2011-04     899\n",
       "2011-05    1079\n",
       "2011-06    1051\n",
       "2011-07     993\n",
       "2011-08     980\n",
       "2011-09    1302\n",
       "2011-10    1425\n",
       "2011-11    1711\n",
       "2011-12     686\n",
       "Freq: M, Name: CustomerID, dtype: int64"
      ]
     },
     "execution_count": 14,
     "metadata": {},
     "output_type": "execute_result"
    }
   ],
   "source": [
    "month_cohort = df.groupby('month_year')['CustomerID'].nunique()\n",
    "month_cohort"
   ]
  },
  {
   "cell_type": "code",
   "execution_count": 15,
   "id": "be4ac81a",
   "metadata": {},
   "outputs": [
    {
     "data": {
      "text/plain": [
       "Text(0.5, 1.0, 'No. of active customers in each month')"
      ]
     },
     "execution_count": 15,
     "metadata": {},
     "output_type": "execute_result"
    },
    {
     "data": {
      "image/png": "[encoded data removed]",
      "text/plain": [
       "<Figure size 720x360 with 1 Axes>"
      ]
     },
     "metadata": {
      "needs_background": "light"
     },
     "output_type": "display_data"
    }
   ],
   "source": [
    "plt.figure(figsize=(10,5))\n",
    "sns.barplot(y = month_cohort.index, x = month_cohort.values);\n",
    "plt.xlabel(\"Count of customers\")\n",
    "plt.title(\"No. of active customers in each month\")"
   ]
  },
  {
   "cell_type": "markdown",
   "id": "2259d63d",
   "metadata": {},
   "source": [
    "* **(b) Analyze the retention rate of customers:**"
   ]
  },
  {
   "cell_type": "code",
   "execution_count": 16,
   "id": "24b9b75d",
   "metadata": {},
   "outputs": [
    {
     "data": {
      "text/plain": [
       "month_year\n",
       "2010-12       NaN\n",
       "2011-01    -165.0\n",
       "2011-02      15.0\n",
       "2011-03     222.0\n",
       "2011-04    -121.0\n",
       "2011-05     180.0\n",
       "2011-06     -28.0\n",
       "2011-07     -58.0\n",
       "2011-08     -13.0\n",
       "2011-09     322.0\n",
       "2011-10     123.0\n",
       "2011-11     286.0\n",
       "2011-12   -1025.0\n",
       "Freq: M, Name: CustomerID, dtype: float64"
      ]
     },
     "execution_count": 16,
     "metadata": {},
     "output_type": "execute_result"
    }
   ],
   "source": [
    "month_cohort - month_cohort.shift(1)"
   ]
  },
  {
   "cell_type": "code",
   "execution_count": 17,
   "id": "f90e7556",
   "metadata": {},
   "outputs": [
    {
     "data": {
      "text/plain": [
       "month_year\n",
       "2010-12      NaN\n",
       "2011-01   -17.41\n",
       "2011-02     1.92\n",
       "2011-03    27.82\n",
       "2011-04   -11.86\n",
       "2011-05    20.02\n",
       "2011-06    -2.59\n",
       "2011-07    -5.52\n",
       "2011-08    -1.31\n",
       "2011-09    32.86\n",
       "2011-10     9.45\n",
       "2011-11    20.07\n",
       "2011-12   -59.91\n",
       "Freq: M, Name: CustomerID, dtype: float64"
      ]
     },
     "execution_count": 17,
     "metadata": {},
     "output_type": "execute_result"
    }
   ],
   "source": [
    "retention_rate = round(month_cohort.pct_change(periods=1)*100,2)\n",
    "retention_rate"
   ]
  },
  {
   "cell_type": "code",
   "execution_count": 18,
   "id": "a8d468cb",
   "metadata": {},
   "outputs": [
    {
     "data": {
      "image/png": "[encoded data removed]",
      "text/plain": [
       "<Figure size 720x360 with 1 Axes>"
      ]
     },
     "metadata": {
      "needs_background": "light"
     },
     "output_type": "display_data"
    }
   ],
   "source": [
    "plt.figure(figsize=(10,5))\n",
    "sns.barplot(y = retention_rate.index, x = retention_rate.values);\n",
    "plt.xlabel(\"Retention (in %)\")\n",
    "plt.title(\"Month-wise customer retention rate\");"
   ]
  },
  {
   "cell_type": "markdown",
   "id": "00b059bd",
   "metadata": {},
   "source": [
    "## Week 2:"
   ]
  },
  {
   "cell_type": "markdown",
   "id": "dd8bd5f2",
   "metadata": {},
   "source": [
    "**Monetary analysis:**"
   ]
  },
  {
   "cell_type": "code",
   "execution_count": 19,
   "id": "ec408994",
   "metadata": {},
   "outputs": [
    {
     "data": {
      "text/html": [
       "<div>\n",
       "<style scoped>\n",
       "    .dataframe tbody tr th:only-of-type {\n",
       "        vertical-align: middle;\n",
       "    }\n",
       "\n",
       "    .dataframe tbody tr th {\n",
       "        vertical-align: top;\n",
       "    }\n",
       "\n",
       "    .dataframe thead th {\n",
       "        text-align: right;\n",
       "    }\n",
       "</style>\n",
       "<table border=\"1\" class=\"dataframe\">\n",
       "  <thead>\n",
       "    <tr style=\"text-align: right;\">\n",
       "      <th></th>\n",
       "      <th>InvoiceNo</th>\n",
       "      <th>StockCode</th>\n",
       "      <th>Quantity</th>\n",
       "      <th>InvoiceDate</th>\n",
       "      <th>UnitPrice</th>\n",
       "      <th>CustomerID</th>\n",
       "      <th>Country</th>\n",
       "      <th>month_year</th>\n",
       "      <th>amount</th>\n",
       "    </tr>\n",
       "  </thead>\n",
       "  <tbody>\n",
       "    <tr>\n",
       "      <th>0</th>\n",
       "      <td>536365</td>\n",
       "      <td>85123A</td>\n",
       "      <td>6</td>\n",
       "      <td>2010-12-01 08:26:00</td>\n",
       "      <td>2.55</td>\n",
       "      <td>17850.0</td>\n",
       "      <td>United Kingdom</td>\n",
       "      <td>2010-12</td>\n",
       "      <td>15.30</td>\n",
       "    </tr>\n",
       "    <tr>\n",
       "      <th>1</th>\n",
       "      <td>536365</td>\n",
       "      <td>71053</td>\n",
       "      <td>6</td>\n",
       "      <td>2010-12-01 08:26:00</td>\n",
       "      <td>3.39</td>\n",
       "      <td>17850.0</td>\n",
       "      <td>United Kingdom</td>\n",
       "      <td>2010-12</td>\n",
       "      <td>20.34</td>\n",
       "    </tr>\n",
       "    <tr>\n",
       "      <th>2</th>\n",
       "      <td>536365</td>\n",
       "      <td>84406B</td>\n",
       "      <td>8</td>\n",
       "      <td>2010-12-01 08:26:00</td>\n",
       "      <td>2.75</td>\n",
       "      <td>17850.0</td>\n",
       "      <td>United Kingdom</td>\n",
       "      <td>2010-12</td>\n",
       "      <td>22.00</td>\n",
       "    </tr>\n",
       "    <tr>\n",
       "      <th>3</th>\n",
       "      <td>536365</td>\n",
       "      <td>84029G</td>\n",
       "      <td>6</td>\n",
       "      <td>2010-12-01 08:26:00</td>\n",
       "      <td>3.39</td>\n",
       "      <td>17850.0</td>\n",
       "      <td>United Kingdom</td>\n",
       "      <td>2010-12</td>\n",
       "      <td>20.34</td>\n",
       "    </tr>\n",
       "    <tr>\n",
       "      <th>4</th>\n",
       "      <td>536365</td>\n",
       "      <td>84029E</td>\n",
       "      <td>6</td>\n",
       "      <td>2010-12-01 08:26:00</td>\n",
       "      <td>3.39</td>\n",
       "      <td>17850.0</td>\n",
       "      <td>United Kingdom</td>\n",
       "      <td>2010-12</td>\n",
       "      <td>20.34</td>\n",
       "    </tr>\n",
       "  </tbody>\n",
       "</table>\n",
       "</div>"
      ],
      "text/plain": [
       "  InvoiceNo StockCode  Quantity         InvoiceDate  UnitPrice CustomerID  \\\n",
       "0    536365    85123A         6 2010-12-01 08:26:00       2.55    17850.0   \n",
       "1    536365     71053         6 2010-12-01 08:26:00       3.39    17850.0   \n",
       "2    536365    84406B         8 2010-12-01 08:26:00       2.75    17850.0   \n",
       "3    536365    84029G         6 2010-12-01 08:26:00       3.39    17850.0   \n",
       "4    536365    84029E         6 2010-12-01 08:26:00       3.39    17850.0   \n",
       "\n",
       "          Country month_year  amount  \n",
       "0  United Kingdom    2010-12   15.30  \n",
       "1  United Kingdom    2010-12   20.34  \n",
       "2  United Kingdom    2010-12   22.00  \n",
       "3  United Kingdom    2010-12   20.34  \n",
       "4  United Kingdom    2010-12   20.34  "
      ]
     },
     "execution_count": 19,
     "metadata": {},
     "output_type": "execute_result"
    }
   ],
   "source": [
    "df['amount'] = df['Quantity']*df['UnitPrice']\n",
    "df.head()"
   ]
  },
  {
   "cell_type": "code",
   "execution_count": 20,
   "id": "cba80832",
   "metadata": {},
   "outputs": [
    {
     "data": {
      "text/html": [
       "<div>\n",
       "<style scoped>\n",
       "    .dataframe tbody tr th:only-of-type {\n",
       "        vertical-align: middle;\n",
       "    }\n",
       "\n",
       "    .dataframe tbody tr th {\n",
       "        vertical-align: top;\n",
       "    }\n",
       "\n",
       "    .dataframe thead th {\n",
       "        text-align: right;\n",
       "    }\n",
       "</style>\n",
       "<table border=\"1\" class=\"dataframe\">\n",
       "  <thead>\n",
       "    <tr style=\"text-align: right;\">\n",
       "      <th></th>\n",
       "      <th>CustomerID</th>\n",
       "      <th>amount</th>\n",
       "    </tr>\n",
       "  </thead>\n",
       "  <tbody>\n",
       "    <tr>\n",
       "      <th>0</th>\n",
       "      <td>12346.0</td>\n",
       "      <td>0.00</td>\n",
       "    </tr>\n",
       "    <tr>\n",
       "      <th>1</th>\n",
       "      <td>12347.0</td>\n",
       "      <td>4310.00</td>\n",
       "    </tr>\n",
       "    <tr>\n",
       "      <th>2</th>\n",
       "      <td>12348.0</td>\n",
       "      <td>1797.24</td>\n",
       "    </tr>\n",
       "    <tr>\n",
       "      <th>3</th>\n",
       "      <td>12349.0</td>\n",
       "      <td>1757.55</td>\n",
       "    </tr>\n",
       "    <tr>\n",
       "      <th>4</th>\n",
       "      <td>12350.0</td>\n",
       "      <td>334.40</td>\n",
       "    </tr>\n",
       "    <tr>\n",
       "      <th>...</th>\n",
       "      <td>...</td>\n",
       "      <td>...</td>\n",
       "    </tr>\n",
       "    <tr>\n",
       "      <th>4367</th>\n",
       "      <td>18280.0</td>\n",
       "      <td>180.60</td>\n",
       "    </tr>\n",
       "    <tr>\n",
       "      <th>4368</th>\n",
       "      <td>18281.0</td>\n",
       "      <td>80.82</td>\n",
       "    </tr>\n",
       "    <tr>\n",
       "      <th>4369</th>\n",
       "      <td>18282.0</td>\n",
       "      <td>176.60</td>\n",
       "    </tr>\n",
       "    <tr>\n",
       "      <th>4370</th>\n",
       "      <td>18283.0</td>\n",
       "      <td>2045.53</td>\n",
       "    </tr>\n",
       "    <tr>\n",
       "      <th>4371</th>\n",
       "      <td>18287.0</td>\n",
       "      <td>1837.28</td>\n",
       "    </tr>\n",
       "  </tbody>\n",
       "</table>\n",
       "<p>4372 rows × 2 columns</p>\n",
       "</div>"
      ],
      "text/plain": [
       "     CustomerID   amount\n",
       "0       12346.0     0.00\n",
       "1       12347.0  4310.00\n",
       "2       12348.0  1797.24\n",
       "3       12349.0  1757.55\n",
       "4       12350.0   334.40\n",
       "...         ...      ...\n",
       "4367    18280.0   180.60\n",
       "4368    18281.0    80.82\n",
       "4369    18282.0   176.60\n",
       "4370    18283.0  2045.53\n",
       "4371    18287.0  1837.28\n",
       "\n",
       "[4372 rows x 2 columns]"
      ]
     },
     "execution_count": 20,
     "metadata": {},
     "output_type": "execute_result"
    }
   ],
   "source": [
    "df_monetary = df.groupby('CustomerID').sum()['amount'].reset_index()\n",
    "df_monetary"
   ]
  },
  {
   "cell_type": "markdown",
   "id": "23a8e520",
   "metadata": {},
   "source": [
    "**Frequency Analysis:**"
   ]
  },
  {
   "cell_type": "code",
   "execution_count": 21,
   "id": "a70e153f",
   "metadata": {},
   "outputs": [
    {
     "data": {
      "text/html": [
       "<div>\n",
       "<style scoped>\n",
       "    .dataframe tbody tr th:only-of-type {\n",
       "        vertical-align: middle;\n",
       "    }\n",
       "\n",
       "    .dataframe tbody tr th {\n",
       "        vertical-align: top;\n",
       "    }\n",
       "\n",
       "    .dataframe thead th {\n",
       "        text-align: right;\n",
       "    }\n",
       "</style>\n",
       "<table border=\"1\" class=\"dataframe\">\n",
       "  <thead>\n",
       "    <tr style=\"text-align: right;\">\n",
       "      <th></th>\n",
       "      <th>CustomerID</th>\n",
       "      <th>InvoiceNo</th>\n",
       "    </tr>\n",
       "  </thead>\n",
       "  <tbody>\n",
       "    <tr>\n",
       "      <th>0</th>\n",
       "      <td>12346.0</td>\n",
       "      <td>2</td>\n",
       "    </tr>\n",
       "    <tr>\n",
       "      <th>1</th>\n",
       "      <td>12347.0</td>\n",
       "      <td>7</td>\n",
       "    </tr>\n",
       "    <tr>\n",
       "      <th>2</th>\n",
       "      <td>12348.0</td>\n",
       "      <td>4</td>\n",
       "    </tr>\n",
       "    <tr>\n",
       "      <th>3</th>\n",
       "      <td>12349.0</td>\n",
       "      <td>1</td>\n",
       "    </tr>\n",
       "    <tr>\n",
       "      <th>4</th>\n",
       "      <td>12350.0</td>\n",
       "      <td>1</td>\n",
       "    </tr>\n",
       "    <tr>\n",
       "      <th>...</th>\n",
       "      <td>...</td>\n",
       "      <td>...</td>\n",
       "    </tr>\n",
       "    <tr>\n",
       "      <th>4367</th>\n",
       "      <td>18280.0</td>\n",
       "      <td>1</td>\n",
       "    </tr>\n",
       "    <tr>\n",
       "      <th>4368</th>\n",
       "      <td>18281.0</td>\n",
       "      <td>1</td>\n",
       "    </tr>\n",
       "    <tr>\n",
       "      <th>4369</th>\n",
       "      <td>18282.0</td>\n",
       "      <td>3</td>\n",
       "    </tr>\n",
       "    <tr>\n",
       "      <th>4370</th>\n",
       "      <td>18283.0</td>\n",
       "      <td>16</td>\n",
       "    </tr>\n",
       "    <tr>\n",
       "      <th>4371</th>\n",
       "      <td>18287.0</td>\n",
       "      <td>3</td>\n",
       "    </tr>\n",
       "  </tbody>\n",
       "</table>\n",
       "<p>4372 rows × 2 columns</p>\n",
       "</div>"
      ],
      "text/plain": [
       "     CustomerID  InvoiceNo\n",
       "0       12346.0          2\n",
       "1       12347.0          7\n",
       "2       12348.0          4\n",
       "3       12349.0          1\n",
       "4       12350.0          1\n",
       "...         ...        ...\n",
       "4367    18280.0          1\n",
       "4368    18281.0          1\n",
       "4369    18282.0          3\n",
       "4370    18283.0         16\n",
       "4371    18287.0          3\n",
       "\n",
       "[4372 rows x 2 columns]"
      ]
     },
     "execution_count": 21,
     "metadata": {},
     "output_type": "execute_result"
    }
   ],
   "source": [
    "df_frequency = df.groupby('CustomerID').nunique()['InvoiceNo'].reset_index()\n",
    "# df_freqency = df.drop_duplicates('InvoiceNo').groupby('CustomerID').count()['InvoiceNo'].reset_index()\n",
    "df_frequency"
   ]
  },
  {
   "cell_type": "markdown",
   "id": "ac455f86",
   "metadata": {},
   "source": [
    "**Recency Analysis:**"
   ]
  },
  {
   "cell_type": "code",
   "execution_count": 22,
   "id": "7b3a0d95",
   "metadata": {},
   "outputs": [
    {
     "data": {
      "text/html": [
       "<div>\n",
       "<style scoped>\n",
       "    .dataframe tbody tr th:only-of-type {\n",
       "        vertical-align: middle;\n",
       "    }\n",
       "\n",
       "    .dataframe tbody tr th {\n",
       "        vertical-align: top;\n",
       "    }\n",
       "\n",
       "    .dataframe thead th {\n",
       "        text-align: right;\n",
       "    }\n",
       "</style>\n",
       "<table border=\"1\" class=\"dataframe\">\n",
       "  <thead>\n",
       "    <tr style=\"text-align: right;\">\n",
       "      <th></th>\n",
       "      <th>InvoiceNo</th>\n",
       "      <th>StockCode</th>\n",
       "      <th>Quantity</th>\n",
       "      <th>InvoiceDate</th>\n",
       "      <th>UnitPrice</th>\n",
       "      <th>CustomerID</th>\n",
       "      <th>Country</th>\n",
       "      <th>month_year</th>\n",
       "      <th>amount</th>\n",
       "      <th>days_to_last_order</th>\n",
       "    </tr>\n",
       "  </thead>\n",
       "  <tbody>\n",
       "    <tr>\n",
       "      <th>0</th>\n",
       "      <td>536365</td>\n",
       "      <td>85123A</td>\n",
       "      <td>6</td>\n",
       "      <td>2010-12-01 08:26:00</td>\n",
       "      <td>2.55</td>\n",
       "      <td>17850.0</td>\n",
       "      <td>United Kingdom</td>\n",
       "      <td>2010-12</td>\n",
       "      <td>15.30</td>\n",
       "      <td>374</td>\n",
       "    </tr>\n",
       "    <tr>\n",
       "      <th>1</th>\n",
       "      <td>536365</td>\n",
       "      <td>71053</td>\n",
       "      <td>6</td>\n",
       "      <td>2010-12-01 08:26:00</td>\n",
       "      <td>3.39</td>\n",
       "      <td>17850.0</td>\n",
       "      <td>United Kingdom</td>\n",
       "      <td>2010-12</td>\n",
       "      <td>20.34</td>\n",
       "      <td>374</td>\n",
       "    </tr>\n",
       "    <tr>\n",
       "      <th>2</th>\n",
       "      <td>536365</td>\n",
       "      <td>84406B</td>\n",
       "      <td>8</td>\n",
       "      <td>2010-12-01 08:26:00</td>\n",
       "      <td>2.75</td>\n",
       "      <td>17850.0</td>\n",
       "      <td>United Kingdom</td>\n",
       "      <td>2010-12</td>\n",
       "      <td>22.00</td>\n",
       "      <td>374</td>\n",
       "    </tr>\n",
       "    <tr>\n",
       "      <th>3</th>\n",
       "      <td>536365</td>\n",
       "      <td>84029G</td>\n",
       "      <td>6</td>\n",
       "      <td>2010-12-01 08:26:00</td>\n",
       "      <td>3.39</td>\n",
       "      <td>17850.0</td>\n",
       "      <td>United Kingdom</td>\n",
       "      <td>2010-12</td>\n",
       "      <td>20.34</td>\n",
       "      <td>374</td>\n",
       "    </tr>\n",
       "    <tr>\n",
       "      <th>4</th>\n",
       "      <td>536365</td>\n",
       "      <td>84029E</td>\n",
       "      <td>6</td>\n",
       "      <td>2010-12-01 08:26:00</td>\n",
       "      <td>3.39</td>\n",
       "      <td>17850.0</td>\n",
       "      <td>United Kingdom</td>\n",
       "      <td>2010-12</td>\n",
       "      <td>20.34</td>\n",
       "      <td>374</td>\n",
       "    </tr>\n",
       "  </tbody>\n",
       "</table>\n",
       "</div>"
      ],
      "text/plain": [
       "  InvoiceNo StockCode  Quantity         InvoiceDate  UnitPrice CustomerID  \\\n",
       "0    536365    85123A         6 2010-12-01 08:26:00       2.55    17850.0   \n",
       "1    536365     71053         6 2010-12-01 08:26:00       3.39    17850.0   \n",
       "2    536365    84406B         8 2010-12-01 08:26:00       2.75    17850.0   \n",
       "3    536365    84029G         6 2010-12-01 08:26:00       3.39    17850.0   \n",
       "4    536365    84029E         6 2010-12-01 08:26:00       3.39    17850.0   \n",
       "\n",
       "          Country month_year  amount  days_to_last_order  \n",
       "0  United Kingdom    2010-12   15.30                 374  \n",
       "1  United Kingdom    2010-12   20.34                 374  \n",
       "2  United Kingdom    2010-12   22.00                 374  \n",
       "3  United Kingdom    2010-12   20.34                 374  \n",
       "4  United Kingdom    2010-12   20.34                 374  "
      ]
     },
     "execution_count": 22,
     "metadata": {},
     "output_type": "execute_result"
    }
   ],
   "source": [
    "# We will fix reference date for calculating recency as last transaction day in data + 1 day\n",
    "ref_day = max(df['InvoiceDate']) + timedelta(days=1)\n",
    "df['days_to_last_order'] = (ref_day - df['InvoiceDate']).dt.days\n",
    "df.head()"
   ]
  },
  {
   "cell_type": "code",
   "execution_count": 23,
   "id": "a6cf326e",
   "metadata": {},
   "outputs": [
    {
     "data": {
      "text/html": [
       "<div>\n",
       "<style scoped>\n",
       "    .dataframe tbody tr th:only-of-type {\n",
       "        vertical-align: middle;\n",
       "    }\n",
       "\n",
       "    .dataframe tbody tr th {\n",
       "        vertical-align: top;\n",
       "    }\n",
       "\n",
       "    .dataframe thead th {\n",
       "        text-align: right;\n",
       "    }\n",
       "</style>\n",
       "<table border=\"1\" class=\"dataframe\">\n",
       "  <thead>\n",
       "    <tr style=\"text-align: right;\">\n",
       "      <th></th>\n",
       "      <th>CustomerID</th>\n",
       "      <th>days_to_last_order</th>\n",
       "    </tr>\n",
       "  </thead>\n",
       "  <tbody>\n",
       "    <tr>\n",
       "      <th>0</th>\n",
       "      <td>12346.0</td>\n",
       "      <td>326</td>\n",
       "    </tr>\n",
       "    <tr>\n",
       "      <th>1</th>\n",
       "      <td>12347.0</td>\n",
       "      <td>2</td>\n",
       "    </tr>\n",
       "    <tr>\n",
       "      <th>2</th>\n",
       "      <td>12348.0</td>\n",
       "      <td>75</td>\n",
       "    </tr>\n",
       "    <tr>\n",
       "      <th>3</th>\n",
       "      <td>12349.0</td>\n",
       "      <td>19</td>\n",
       "    </tr>\n",
       "    <tr>\n",
       "      <th>4</th>\n",
       "      <td>12350.0</td>\n",
       "      <td>310</td>\n",
       "    </tr>\n",
       "    <tr>\n",
       "      <th>...</th>\n",
       "      <td>...</td>\n",
       "      <td>...</td>\n",
       "    </tr>\n",
       "    <tr>\n",
       "      <th>4367</th>\n",
       "      <td>18280.0</td>\n",
       "      <td>278</td>\n",
       "    </tr>\n",
       "    <tr>\n",
       "      <th>4368</th>\n",
       "      <td>18281.0</td>\n",
       "      <td>181</td>\n",
       "    </tr>\n",
       "    <tr>\n",
       "      <th>4369</th>\n",
       "      <td>18282.0</td>\n",
       "      <td>8</td>\n",
       "    </tr>\n",
       "    <tr>\n",
       "      <th>4370</th>\n",
       "      <td>18283.0</td>\n",
       "      <td>4</td>\n",
       "    </tr>\n",
       "    <tr>\n",
       "      <th>4371</th>\n",
       "      <td>18287.0</td>\n",
       "      <td>43</td>\n",
       "    </tr>\n",
       "  </tbody>\n",
       "</table>\n",
       "<p>4372 rows × 2 columns</p>\n",
       "</div>"
      ],
      "text/plain": [
       "     CustomerID  days_to_last_order\n",
       "0       12346.0                 326\n",
       "1       12347.0                   2\n",
       "2       12348.0                  75\n",
       "3       12349.0                  19\n",
       "4       12350.0                 310\n",
       "...         ...                 ...\n",
       "4367    18280.0                 278\n",
       "4368    18281.0                 181\n",
       "4369    18282.0                   8\n",
       "4370    18283.0                   4\n",
       "4371    18287.0                  43\n",
       "\n",
       "[4372 rows x 2 columns]"
      ]
     },
     "execution_count": 23,
     "metadata": {},
     "output_type": "execute_result"
    }
   ],
   "source": [
    "df_recency = df.groupby('CustomerID')['days_to_last_order'].min().reset_index()\n",
    "df_recency"
   ]
  },
  {
   "cell_type": "markdown",
   "id": "40d113cd",
   "metadata": {},
   "source": [
    "**Calculate RFM metrics:**"
   ]
  },
  {
   "cell_type": "code",
   "execution_count": 24,
   "id": "9af6d0b9",
   "metadata": {},
   "outputs": [
    {
     "data": {
      "text/html": [
       "<div>\n",
       "<style scoped>\n",
       "    .dataframe tbody tr th:only-of-type {\n",
       "        vertical-align: middle;\n",
       "    }\n",
       "\n",
       "    .dataframe tbody tr th {\n",
       "        vertical-align: top;\n",
       "    }\n",
       "\n",
       "    .dataframe thead th {\n",
       "        text-align: right;\n",
       "    }\n",
       "</style>\n",
       "<table border=\"1\" class=\"dataframe\">\n",
       "  <thead>\n",
       "    <tr style=\"text-align: right;\">\n",
       "      <th></th>\n",
       "      <th>CustomerID</th>\n",
       "      <th>Recency</th>\n",
       "      <th>Frequency</th>\n",
       "      <th>Monetary</th>\n",
       "    </tr>\n",
       "  </thead>\n",
       "  <tbody>\n",
       "    <tr>\n",
       "      <th>0</th>\n",
       "      <td>12346.0</td>\n",
       "      <td>326</td>\n",
       "      <td>2</td>\n",
       "      <td>0.00</td>\n",
       "    </tr>\n",
       "    <tr>\n",
       "      <th>1</th>\n",
       "      <td>12347.0</td>\n",
       "      <td>2</td>\n",
       "      <td>7</td>\n",
       "      <td>4310.00</td>\n",
       "    </tr>\n",
       "    <tr>\n",
       "      <th>2</th>\n",
       "      <td>12348.0</td>\n",
       "      <td>75</td>\n",
       "      <td>4</td>\n",
       "      <td>1797.24</td>\n",
       "    </tr>\n",
       "    <tr>\n",
       "      <th>3</th>\n",
       "      <td>12349.0</td>\n",
       "      <td>19</td>\n",
       "      <td>1</td>\n",
       "      <td>1757.55</td>\n",
       "    </tr>\n",
       "    <tr>\n",
       "      <th>4</th>\n",
       "      <td>12350.0</td>\n",
       "      <td>310</td>\n",
       "      <td>1</td>\n",
       "      <td>334.40</td>\n",
       "    </tr>\n",
       "  </tbody>\n",
       "</table>\n",
       "</div>"
      ],
      "text/plain": [
       "  CustomerID  Recency  Frequency  Monetary\n",
       "0    12346.0      326          2      0.00\n",
       "1    12347.0        2          7   4310.00\n",
       "2    12348.0       75          4   1797.24\n",
       "3    12349.0       19          1   1757.55\n",
       "4    12350.0      310          1    334.40"
      ]
     },
     "execution_count": 24,
     "metadata": {},
     "output_type": "execute_result"
    }
   ],
   "source": [
    "df_rf = pd.merge(df_recency, df_frequency,  on='CustomerID', how='inner')\n",
    "df_rfm = pd.merge(df_rf, df_monetary, on='CustomerID', how='inner')\n",
    "df_rfm.columns = ['CustomerID', 'Recency', 'Frequency', 'Monetary']\n",
    "df_rfm.head()"
   ]
  },
  {
   "cell_type": "markdown",
   "id": "356a3ba1",
   "metadata": {},
   "source": [
    "**Build RFM Segments:**"
   ]
  },
  {
   "cell_type": "code",
   "execution_count": 25,
   "id": "38b32e8d",
   "metadata": {},
   "outputs": [
    {
     "data": {
      "text/plain": [
       "newest    2734\n",
       "newer      588\n",
       "medium     416\n",
       "older      353\n",
       "oldest     281\n",
       "Name: recency_labels, dtype: int64"
      ]
     },
     "execution_count": 25,
     "metadata": {},
     "output_type": "execute_result"
    },
    {
     "data": {
      "image/png": "[encoded data removed]",
      "text/plain": [
       "<Figure size 432x288 with 1 Axes>"
      ]
     },
     "metadata": {
      "needs_background": "light"
     },
     "output_type": "display_data"
    }
   ],
   "source": [
    "df_rfm['recency_labels'] = pd.cut(df_rfm['Recency'], bins=5,\n",
    "                                     labels=['newest', 'newer', 'medium', 'older', 'oldest'])\n",
    "df_rfm['recency_labels'].value_counts().plot(kind='barh');\n",
    "df_rfm['recency_labels'].value_counts()"
   ]
  },
  {
   "cell_type": "code",
   "execution_count": 26,
   "id": "dbe4f967",
   "metadata": {},
   "outputs": [
    {
     "data": {
      "text/plain": [
       "lowest     4348\n",
       "lower        18\n",
       "medium        3\n",
       "highest       2\n",
       "higher        1\n",
       "Name: frequency_labels, dtype: int64"
      ]
     },
     "execution_count": 26,
     "metadata": {},
     "output_type": "execute_result"
    },
    {
     "data": {
      "image/png": "[encoded data removed]",
      "text/plain": [
       "<Figure size 432x288 with 1 Axes>"
      ]
     },
     "metadata": {
      "needs_background": "light"
     },
     "output_type": "display_data"
    }
   ],
   "source": [
    "df_rfm['frequency_labels'] = pd.cut(df_rfm['Frequency'], bins=5, labels=['lowest', 'lower', 'medium', 'higher', 'highest'])\n",
    "df_rfm['frequency_labels'].value_counts().plot(kind='barh');\n",
    "df_rfm['frequency_labels'].value_counts()"
   ]
  },
  {
   "cell_type": "code",
   "execution_count": 27,
   "id": "658b25cb",
   "metadata": {},
   "outputs": [
    {
     "data": {
      "text/plain": [
       "smallest    4357\n",
       "smaller        9\n",
       "medium         3\n",
       "largest        2\n",
       "larger         1\n",
       "Name: monetary_labels, dtype: int64"
      ]
     },
     "execution_count": 27,
     "metadata": {},
     "output_type": "execute_result"
    },
    {
     "data": {
      "image/png": "[encoded data removed]",
      "text/plain": [
       "<Figure size 432x288 with 1 Axes>"
      ]
     },
     "metadata": {
      "needs_background": "light"
     },
     "output_type": "display_data"
    }
   ],
   "source": [
    "df_rfm['monetary_labels'] = pd.cut(df_rfm['Monetary'], bins=5, labels=['smallest', 'smaller', 'medium', 'larger', 'largest'])\n",
    "df_rfm['monetary_labels'].value_counts().plot(kind='barh');\n",
    "df_rfm['monetary_labels'].value_counts()"
   ]
  },
  {
   "cell_type": "code",
   "execution_count": 28,
   "id": "ba266504",
   "metadata": {},
   "outputs": [
    {
     "data": {
      "text/html": [
       "<div>\n",
       "<style scoped>\n",
       "    .dataframe tbody tr th:only-of-type {\n",
       "        vertical-align: middle;\n",
       "    }\n",
       "\n",
       "    .dataframe tbody tr th {\n",
       "        vertical-align: top;\n",
       "    }\n",
       "\n",
       "    .dataframe thead th {\n",
       "        text-align: right;\n",
       "    }\n",
       "</style>\n",
       "<table border=\"1\" class=\"dataframe\">\n",
       "  <thead>\n",
       "    <tr style=\"text-align: right;\">\n",
       "      <th></th>\n",
       "      <th>CustomerID</th>\n",
       "      <th>Recency</th>\n",
       "      <th>Frequency</th>\n",
       "      <th>Monetary</th>\n",
       "      <th>recency_labels</th>\n",
       "      <th>frequency_labels</th>\n",
       "      <th>monetary_labels</th>\n",
       "      <th>rfm_segment</th>\n",
       "    </tr>\n",
       "  </thead>\n",
       "  <tbody>\n",
       "    <tr>\n",
       "      <th>0</th>\n",
       "      <td>12346.0</td>\n",
       "      <td>326</td>\n",
       "      <td>2</td>\n",
       "      <td>0.00</td>\n",
       "      <td>oldest</td>\n",
       "      <td>lowest</td>\n",
       "      <td>smallest</td>\n",
       "      <td>oldest-lowest-smallest</td>\n",
       "    </tr>\n",
       "    <tr>\n",
       "      <th>1</th>\n",
       "      <td>12347.0</td>\n",
       "      <td>2</td>\n",
       "      <td>7</td>\n",
       "      <td>4310.00</td>\n",
       "      <td>newest</td>\n",
       "      <td>lowest</td>\n",
       "      <td>smallest</td>\n",
       "      <td>newest-lowest-smallest</td>\n",
       "    </tr>\n",
       "    <tr>\n",
       "      <th>2</th>\n",
       "      <td>12348.0</td>\n",
       "      <td>75</td>\n",
       "      <td>4</td>\n",
       "      <td>1797.24</td>\n",
       "      <td>newest</td>\n",
       "      <td>lowest</td>\n",
       "      <td>smallest</td>\n",
       "      <td>newest-lowest-smallest</td>\n",
       "    </tr>\n",
       "    <tr>\n",
       "      <th>3</th>\n",
       "      <td>12349.0</td>\n",
       "      <td>19</td>\n",
       "      <td>1</td>\n",
       "      <td>1757.55</td>\n",
       "      <td>newest</td>\n",
       "      <td>lowest</td>\n",
       "      <td>smallest</td>\n",
       "      <td>newest-lowest-smallest</td>\n",
       "    </tr>\n",
       "    <tr>\n",
       "      <th>4</th>\n",
       "      <td>12350.0</td>\n",
       "      <td>310</td>\n",
       "      <td>1</td>\n",
       "      <td>334.40</td>\n",
       "      <td>oldest</td>\n",
       "      <td>lowest</td>\n",
       "      <td>smallest</td>\n",
       "      <td>oldest-lowest-smallest</td>\n",
       "    </tr>\n",
       "  </tbody>\n",
       "</table>\n",
       "</div>"
      ],
      "text/plain": [
       "  CustomerID  Recency  Frequency  Monetary recency_labels frequency_labels  \\\n",
       "0    12346.0      326          2      0.00         oldest           lowest   \n",
       "1    12347.0        2          7   4310.00         newest           lowest   \n",
       "2    12348.0       75          4   1797.24         newest           lowest   \n",
       "3    12349.0       19          1   1757.55         newest           lowest   \n",
       "4    12350.0      310          1    334.40         oldest           lowest   \n",
       "\n",
       "  monetary_labels             rfm_segment  \n",
       "0        smallest  oldest-lowest-smallest  \n",
       "1        smallest  newest-lowest-smallest  \n",
       "2        smallest  newest-lowest-smallest  \n",
       "3        smallest  newest-lowest-smallest  \n",
       "4        smallest  oldest-lowest-smallest  "
      ]
     },
     "execution_count": 28,
     "metadata": {},
     "output_type": "execute_result"
    }
   ],
   "source": [
    "df_rfm['rfm_segment'] = df_rfm[['recency_labels','frequency_labels','monetary_labels']].agg('-'.join, axis=1)\n",
    "df_rfm.head()"
   ]
  },
  {
   "cell_type": "markdown",
   "id": "f99149db",
   "metadata": {},
   "source": [
    "**RFM Score:**"
   ]
  },
  {
   "cell_type": "code",
   "execution_count": 29,
   "id": "c5143300",
   "metadata": {},
   "outputs": [
    {
     "data": {
      "text/html": [
       "<div>\n",
       "<style scoped>\n",
       "    .dataframe tbody tr th:only-of-type {\n",
       "        vertical-align: middle;\n",
       "    }\n",
       "\n",
       "    .dataframe tbody tr th {\n",
       "        vertical-align: top;\n",
       "    }\n",
       "\n",
       "    .dataframe thead th {\n",
       "        text-align: right;\n",
       "    }\n",
       "</style>\n",
       "<table border=\"1\" class=\"dataframe\">\n",
       "  <thead>\n",
       "    <tr style=\"text-align: right;\">\n",
       "      <th></th>\n",
       "      <th>CustomerID</th>\n",
       "      <th>Recency</th>\n",
       "      <th>Frequency</th>\n",
       "      <th>Monetary</th>\n",
       "      <th>recency_labels</th>\n",
       "      <th>frequency_labels</th>\n",
       "      <th>monetary_labels</th>\n",
       "      <th>rfm_segment</th>\n",
       "      <th>rfm_score</th>\n",
       "    </tr>\n",
       "  </thead>\n",
       "  <tbody>\n",
       "    <tr>\n",
       "      <th>0</th>\n",
       "      <td>12346.0</td>\n",
       "      <td>326</td>\n",
       "      <td>2</td>\n",
       "      <td>0.00</td>\n",
       "      <td>oldest</td>\n",
       "      <td>lowest</td>\n",
       "      <td>smallest</td>\n",
       "      <td>oldest-lowest-smallest</td>\n",
       "      <td>3</td>\n",
       "    </tr>\n",
       "    <tr>\n",
       "      <th>1</th>\n",
       "      <td>12347.0</td>\n",
       "      <td>2</td>\n",
       "      <td>7</td>\n",
       "      <td>4310.00</td>\n",
       "      <td>newest</td>\n",
       "      <td>lowest</td>\n",
       "      <td>smallest</td>\n",
       "      <td>newest-lowest-smallest</td>\n",
       "      <td>7</td>\n",
       "    </tr>\n",
       "    <tr>\n",
       "      <th>2</th>\n",
       "      <td>12348.0</td>\n",
       "      <td>75</td>\n",
       "      <td>4</td>\n",
       "      <td>1797.24</td>\n",
       "      <td>newest</td>\n",
       "      <td>lowest</td>\n",
       "      <td>smallest</td>\n",
       "      <td>newest-lowest-smallest</td>\n",
       "      <td>7</td>\n",
       "    </tr>\n",
       "    <tr>\n",
       "      <th>3</th>\n",
       "      <td>12349.0</td>\n",
       "      <td>19</td>\n",
       "      <td>1</td>\n",
       "      <td>1757.55</td>\n",
       "      <td>newest</td>\n",
       "      <td>lowest</td>\n",
       "      <td>smallest</td>\n",
       "      <td>newest-lowest-smallest</td>\n",
       "      <td>7</td>\n",
       "    </tr>\n",
       "    <tr>\n",
       "      <th>4</th>\n",
       "      <td>12350.0</td>\n",
       "      <td>310</td>\n",
       "      <td>1</td>\n",
       "      <td>334.40</td>\n",
       "      <td>oldest</td>\n",
       "      <td>lowest</td>\n",
       "      <td>smallest</td>\n",
       "      <td>oldest-lowest-smallest</td>\n",
       "      <td>3</td>\n",
       "    </tr>\n",
       "    <tr>\n",
       "      <th>5</th>\n",
       "      <td>12352.0</td>\n",
       "      <td>36</td>\n",
       "      <td>11</td>\n",
       "      <td>1545.41</td>\n",
       "      <td>newest</td>\n",
       "      <td>lowest</td>\n",
       "      <td>smallest</td>\n",
       "      <td>newest-lowest-smallest</td>\n",
       "      <td>7</td>\n",
       "    </tr>\n",
       "    <tr>\n",
       "      <th>6</th>\n",
       "      <td>12353.0</td>\n",
       "      <td>204</td>\n",
       "      <td>1</td>\n",
       "      <td>89.00</td>\n",
       "      <td>medium</td>\n",
       "      <td>lowest</td>\n",
       "      <td>smallest</td>\n",
       "      <td>medium-lowest-smallest</td>\n",
       "      <td>5</td>\n",
       "    </tr>\n",
       "    <tr>\n",
       "      <th>7</th>\n",
       "      <td>12354.0</td>\n",
       "      <td>232</td>\n",
       "      <td>1</td>\n",
       "      <td>1079.40</td>\n",
       "      <td>older</td>\n",
       "      <td>lowest</td>\n",
       "      <td>smallest</td>\n",
       "      <td>older-lowest-smallest</td>\n",
       "      <td>4</td>\n",
       "    </tr>\n",
       "    <tr>\n",
       "      <th>8</th>\n",
       "      <td>12355.0</td>\n",
       "      <td>214</td>\n",
       "      <td>1</td>\n",
       "      <td>459.40</td>\n",
       "      <td>medium</td>\n",
       "      <td>lowest</td>\n",
       "      <td>smallest</td>\n",
       "      <td>medium-lowest-smallest</td>\n",
       "      <td>5</td>\n",
       "    </tr>\n",
       "    <tr>\n",
       "      <th>9</th>\n",
       "      <td>12356.0</td>\n",
       "      <td>23</td>\n",
       "      <td>3</td>\n",
       "      <td>2811.43</td>\n",
       "      <td>newest</td>\n",
       "      <td>lowest</td>\n",
       "      <td>smallest</td>\n",
       "      <td>newest-lowest-smallest</td>\n",
       "      <td>7</td>\n",
       "    </tr>\n",
       "  </tbody>\n",
       "</table>\n",
       "</div>"
      ],
      "text/plain": [
       "  CustomerID  Recency  Frequency  Monetary recency_labels frequency_labels  \\\n",
       "0    12346.0      326          2      0.00         oldest           lowest   \n",
       "1    12347.0        2          7   4310.00         newest           lowest   \n",
       "2    12348.0       75          4   1797.24         newest           lowest   \n",
       "3    12349.0       19          1   1757.55         newest           lowest   \n",
       "4    12350.0      310          1    334.40         oldest           lowest   \n",
       "5    12352.0       36         11   1545.41         newest           lowest   \n",
       "6    12353.0      204          1     89.00         medium           lowest   \n",
       "7    12354.0      232          1   1079.40          older           lowest   \n",
       "8    12355.0      214          1    459.40         medium           lowest   \n",
       "9    12356.0       23          3   2811.43         newest           lowest   \n",
       "\n",
       "  monetary_labels             rfm_segment  rfm_score  \n",
       "0        smallest  oldest-lowest-smallest          3  \n",
       "1        smallest  newest-lowest-smallest          7  \n",
       "2        smallest  newest-lowest-smallest          7  \n",
       "3        smallest  newest-lowest-smallest          7  \n",
       "4        smallest  oldest-lowest-smallest          3  \n",
       "5        smallest  newest-lowest-smallest          7  \n",
       "6        smallest  medium-lowest-smallest          5  \n",
       "7        smallest   older-lowest-smallest          4  \n",
       "8        smallest  medium-lowest-smallest          5  \n",
       "9        smallest  newest-lowest-smallest          7  "
      ]
     },
     "execution_count": 29,
     "metadata": {},
     "output_type": "execute_result"
    }
   ],
   "source": [
    "recency_dict = {'newest': 5, 'newer':4, 'medium': 3, 'older':2, 'oldest':1}\n",
    "frequency_dict = {'lowest':1, 'lower':2, 'medium': 3, 'higher':4, 'highest':5}\n",
    "monetary_dict = {'smallest':1, 'smaller':2, 'medium': 3, 'larger':4, 'largest':5}\n",
    "\n",
    "df_rfm['rfm_score'] = df_rfm['recency_labels'].map(recency_dict).astype(int)+ df_rfm['frequency_labels'].map(frequency_dict).astype(int) + df_rfm['monetary_labels'].map(monetary_dict).astype(int)\n",
    "df_rfm.head(10)"
   ]
  },
  {
   "cell_type": "markdown",
   "id": "45535b11",
   "metadata": {},
   "source": [
    "**Analyze RFM Segment and Score:**"
   ]
  },
  {
   "cell_type": "code",
   "execution_count": 30,
   "id": "f42b61f8",
   "metadata": {
    "scrolled": true
   },
   "outputs": [
    {
     "data": {
      "image/png": "[encoded data removed]",
      "text/plain": [
       "<Figure size 720x360 with 1 Axes>"
      ]
     },
     "metadata": {
      "needs_background": "light"
     },
     "output_type": "display_data"
    }
   ],
   "source": [
    "df_rfm['rfm_segment'].value_counts().plot(kind='barh', figsize=(10, 5));"
   ]
  },
  {
   "cell_type": "code",
   "execution_count": 31,
   "id": "f28e2833",
   "metadata": {},
   "outputs": [
    {
     "data": {
      "image/png": "[encoded data removed]",
      "text/plain": [
       "<Figure size 720x360 with 1 Axes>"
      ]
     },
     "metadata": {
      "needs_background": "light"
     },
     "output_type": "display_data"
    }
   ],
   "source": [
    "df_rfm['rfm_score'].value_counts().plot(kind='barh', figsize=(10, 5));"
   ]
  },
  {
   "cell_type": "markdown",
   "id": "f436c5c0",
   "metadata": {},
   "source": [
    "## Week 3\n",
    "### Data Modeling:\n",
    "\n",
    "1. Create clusters using k-means clustering algorithm.\n",
    "\n",
    "      **a. Prepare the data for the algorithm. If the data is asymmetrically distributed, manage the skewness with appropriate transformation. Standardize the data.**\n"
   ]
  },
  {
   "cell_type": "code",
   "execution_count": 32,
   "id": "b36f0113",
   "metadata": {},
   "outputs": [
    {
     "name": "stdout",
     "output_type": "stream",
     "text": [
      "(4372, 9)\n"
     ]
    },
    {
     "data": {
      "text/html": [
       "<div>\n",
       "<style scoped>\n",
       "    .dataframe tbody tr th:only-of-type {\n",
       "        vertical-align: middle;\n",
       "    }\n",
       "\n",
       "    .dataframe tbody tr th {\n",
       "        vertical-align: top;\n",
       "    }\n",
       "\n",
       "    .dataframe thead th {\n",
       "        text-align: right;\n",
       "    }\n",
       "</style>\n",
       "<table border=\"1\" class=\"dataframe\">\n",
       "  <thead>\n",
       "    <tr style=\"text-align: right;\">\n",
       "      <th></th>\n",
       "      <th>CustomerID</th>\n",
       "      <th>Recency</th>\n",
       "      <th>Frequency</th>\n",
       "      <th>Monetary</th>\n",
       "      <th>recency_labels</th>\n",
       "      <th>frequency_labels</th>\n",
       "      <th>monetary_labels</th>\n",
       "      <th>rfm_segment</th>\n",
       "      <th>rfm_score</th>\n",
       "    </tr>\n",
       "  </thead>\n",
       "  <tbody>\n",
       "    <tr>\n",
       "      <th>0</th>\n",
       "      <td>12346.0</td>\n",
       "      <td>326</td>\n",
       "      <td>2</td>\n",
       "      <td>0.00</td>\n",
       "      <td>oldest</td>\n",
       "      <td>lowest</td>\n",
       "      <td>smallest</td>\n",
       "      <td>oldest-lowest-smallest</td>\n",
       "      <td>3</td>\n",
       "    </tr>\n",
       "    <tr>\n",
       "      <th>1</th>\n",
       "      <td>12347.0</td>\n",
       "      <td>2</td>\n",
       "      <td>7</td>\n",
       "      <td>4310.00</td>\n",
       "      <td>newest</td>\n",
       "      <td>lowest</td>\n",
       "      <td>smallest</td>\n",
       "      <td>newest-lowest-smallest</td>\n",
       "      <td>7</td>\n",
       "    </tr>\n",
       "    <tr>\n",
       "      <th>2</th>\n",
       "      <td>12348.0</td>\n",
       "      <td>75</td>\n",
       "      <td>4</td>\n",
       "      <td>1797.24</td>\n",
       "      <td>newest</td>\n",
       "      <td>lowest</td>\n",
       "      <td>smallest</td>\n",
       "      <td>newest-lowest-smallest</td>\n",
       "      <td>7</td>\n",
       "    </tr>\n",
       "    <tr>\n",
       "      <th>3</th>\n",
       "      <td>12349.0</td>\n",
       "      <td>19</td>\n",
       "      <td>1</td>\n",
       "      <td>1757.55</td>\n",
       "      <td>newest</td>\n",
       "      <td>lowest</td>\n",
       "      <td>smallest</td>\n",
       "      <td>newest-lowest-smallest</td>\n",
       "      <td>7</td>\n",
       "    </tr>\n",
       "    <tr>\n",
       "      <th>4</th>\n",
       "      <td>12350.0</td>\n",
       "      <td>310</td>\n",
       "      <td>1</td>\n",
       "      <td>334.40</td>\n",
       "      <td>oldest</td>\n",
       "      <td>lowest</td>\n",
       "      <td>smallest</td>\n",
       "      <td>oldest-lowest-smallest</td>\n",
       "      <td>3</td>\n",
       "    </tr>\n",
       "  </tbody>\n",
       "</table>\n",
       "</div>"
      ],
      "text/plain": [
       "  CustomerID  Recency  Frequency  Monetary recency_labels frequency_labels  \\\n",
       "0    12346.0      326          2      0.00         oldest           lowest   \n",
       "1    12347.0        2          7   4310.00         newest           lowest   \n",
       "2    12348.0       75          4   1797.24         newest           lowest   \n",
       "3    12349.0       19          1   1757.55         newest           lowest   \n",
       "4    12350.0      310          1    334.40         oldest           lowest   \n",
       "\n",
       "  monetary_labels             rfm_segment  rfm_score  \n",
       "0        smallest  oldest-lowest-smallest          3  \n",
       "1        smallest  newest-lowest-smallest          7  \n",
       "2        smallest  newest-lowest-smallest          7  \n",
       "3        smallest  newest-lowest-smallest          7  \n",
       "4        smallest  oldest-lowest-smallest          3  "
      ]
     },
     "execution_count": 32,
     "metadata": {},
     "output_type": "execute_result"
    }
   ],
   "source": [
    "print(df_rfm.shape)\n",
    "df_rfm.head()"
   ]
  },
  {
   "cell_type": "code",
   "execution_count": 33,
   "id": "e350fc29",
   "metadata": {},
   "outputs": [
    {
     "data": {
      "image/png": "[encoded data removed]",
      "text/plain": [
       "<Figure size 864x432 with 6 Axes>"
      ]
     },
     "metadata": {
      "needs_background": "light"
     },
     "output_type": "display_data"
    }
   ],
   "source": [
    "plt.figure(figsize=(12,6))\n",
    "\n",
    "for i, feature in enumerate(['Recency', 'Frequency', 'Monetary']):\n",
    "    plt.subplot(2,3,i+1)\n",
    "    df_rfm[feature].plot(kind='box')\n",
    "    plt.subplot(2,3,i+1+3)\n",
    "    df_rfm[feature].plot(kind='hist')"
   ]
  },
  {
   "cell_type": "markdown",
   "id": "dd052896",
   "metadata": {},
   "source": [
    "**Outliers:** Frequency and Monetary features in above data seem to have lot of outliers. Lets drop them."
   ]
  },
  {
   "cell_type": "code",
   "execution_count": 34,
   "id": "c095bafb",
   "metadata": {},
   "outputs": [
    {
     "data": {
      "text/plain": [
       "(4346, 9)"
      ]
     },
     "execution_count": 34,
     "metadata": {},
     "output_type": "execute_result"
    }
   ],
   "source": [
    "df_rfm = df_rfm[(df_rfm['Frequency']<60) & (df_rfm['Monetary']<40000)]\n",
    "df_rfm.shape"
   ]
  },
  {
   "cell_type": "markdown",
   "id": "999c54fa",
   "metadata": {},
   "source": [
    "26 Customers removed as outlier from out data."
   ]
  },
  {
   "cell_type": "code",
   "execution_count": 35,
   "id": "93f29ae7",
   "metadata": {},
   "outputs": [
    {
     "data": {
      "image/png": "[encoded data removed]",
      "text/plain": [
       "<Figure size 864x432 with 6 Axes>"
      ]
     },
     "metadata": {
      "needs_background": "light"
     },
     "output_type": "display_data"
    }
   ],
   "source": [
    "plt.figure(figsize=(12,6))\n",
    "\n",
    "for i, feature in enumerate(['Recency', 'Frequency', 'Monetary']):\n",
    "    plt.subplot(2,3,i+1)\n",
    "    df_rfm[feature].plot(kind='box')\n",
    "    plt.subplot(2,3,i+1+3)\n",
    "    df_rfm[feature].plot(kind='hist')"
   ]
  },
  {
   "cell_type": "markdown",
   "id": "afd3dfd8",
   "metadata": {},
   "source": [
    "**Log Transformation:** Now since all three features have right skewed data therefore we will use log transformation of these features in our model."
   ]
  },
  {
   "cell_type": "code",
   "execution_count": 36,
   "id": "504f609e",
   "metadata": {},
   "outputs": [],
   "source": [
    "df_rfm_log_trans = pd.DataFrame()\n",
    "df_rfm_log_trans['Recency'] = np.log(df_rfm['Recency'])\n",
    "df_rfm_log_trans['Frequency'] = np.log(df_rfm['Frequency'])\n",
    "df_rfm_log_trans['Monetary'] = np.log(df_rfm['Monetary']-df_rfm['Monetary'].min()+1)"
   ]
  },
  {
   "cell_type": "markdown",
   "id": "29395363",
   "metadata": {},
   "source": [
    "**Standard Scalar Transformation:** It is extremely important to rescale the features so that they have a comparable scale."
   ]
  },
  {
   "cell_type": "code",
   "execution_count": 37,
   "id": "7f714d98",
   "metadata": {},
   "outputs": [
    {
     "data": {
      "text/html": [
       "<div>\n",
       "<style scoped>\n",
       "    .dataframe tbody tr th:only-of-type {\n",
       "        vertical-align: middle;\n",
       "    }\n",
       "\n",
       "    .dataframe tbody tr th {\n",
       "        vertical-align: top;\n",
       "    }\n",
       "\n",
       "    .dataframe thead th {\n",
       "        text-align: right;\n",
       "    }\n",
       "</style>\n",
       "<table border=\"1\" class=\"dataframe\">\n",
       "  <thead>\n",
       "    <tr style=\"text-align: right;\">\n",
       "      <th></th>\n",
       "      <th>Recency</th>\n",
       "      <th>Frequency</th>\n",
       "      <th>Monetary</th>\n",
       "    </tr>\n",
       "  </thead>\n",
       "  <tbody>\n",
       "    <tr>\n",
       "      <th>0</th>\n",
       "      <td>1.402988</td>\n",
       "      <td>-0.388507</td>\n",
       "      <td>-0.770922</td>\n",
       "    </tr>\n",
       "    <tr>\n",
       "      <th>1</th>\n",
       "      <td>-2.100874</td>\n",
       "      <td>0.967301</td>\n",
       "      <td>1.485132</td>\n",
       "    </tr>\n",
       "    <tr>\n",
       "      <th>2</th>\n",
       "      <td>0.392218</td>\n",
       "      <td>0.361655</td>\n",
       "      <td>0.364190</td>\n",
       "    </tr>\n",
       "    <tr>\n",
       "      <th>3</th>\n",
       "      <td>-0.552268</td>\n",
       "      <td>-1.138669</td>\n",
       "      <td>0.342970</td>\n",
       "    </tr>\n",
       "    <tr>\n",
       "      <th>4</th>\n",
       "      <td>1.368370</td>\n",
       "      <td>-1.138669</td>\n",
       "      <td>-0.527416</td>\n",
       "    </tr>\n",
       "  </tbody>\n",
       "</table>\n",
       "</div>"
      ],
      "text/plain": [
       "    Recency  Frequency  Monetary\n",
       "0  1.402988  -0.388507 -0.770922\n",
       "1 -2.100874   0.967301  1.485132\n",
       "2  0.392218   0.361655  0.364190\n",
       "3 -0.552268  -1.138669  0.342970\n",
       "4  1.368370  -1.138669 -0.527416"
      ]
     },
     "execution_count": 37,
     "metadata": {},
     "output_type": "execute_result"
    }
   ],
   "source": [
    "scaler = StandardScaler()\n",
    "\n",
    "df_rfm_scaled = scaler.fit_transform(df_rfm_log_trans[['Recency', 'Frequency', 'Monetary']])\n",
    "df_rfm_scaled\n",
    "\n",
    "df_rfm_scaled = pd.DataFrame(df_rfm_scaled)\n",
    "df_rfm_scaled.columns = ['Recency', 'Frequency', 'Monetary']\n",
    "df_rfm_scaled.head()"
   ]
  },
  {
   "cell_type": "markdown",
   "id": "beeb91dd",
   "metadata": {},
   "source": [
    "   **b. Build K-Means Clustering Model and Decide the optimum number of clusters to be formed.**"
   ]
  },
  {
   "cell_type": "code",
   "execution_count": 38,
   "id": "0627634f",
   "metadata": {},
   "outputs": [
    {
     "data": {
      "text/plain": [
       "KMeans(max_iter=50, n_clusters=3)"
      ]
     },
     "execution_count": 38,
     "metadata": {},
     "output_type": "execute_result"
    }
   ],
   "source": [
    "# k-means with some arbitrary k\n",
    "kmeans = KMeans(n_clusters=3, max_iter=50)\n",
    "kmeans.fit(df_rfm_scaled)"
   ]
  },
  {
   "cell_type": "code",
   "execution_count": 39,
   "id": "8b1562c5",
   "metadata": {},
   "outputs": [
    {
     "data": {
      "text/plain": [
       "array([1, 2, 0, ..., 0, 2, 0])"
      ]
     },
     "execution_count": 39,
     "metadata": {},
     "output_type": "execute_result"
    }
   ],
   "source": [
    "kmeans.labels_"
   ]
  },
  {
   "cell_type": "code",
   "execution_count": 40,
   "id": "b5992660",
   "metadata": {},
   "outputs": [
    {
     "data": {
      "image/png": "[encoded data removed]",
      "text/plain": [
       "<Figure size 432x288 with 1 Axes>"
      ]
     },
     "metadata": {
      "needs_background": "light"
     },
     "output_type": "display_data"
    }
   ],
   "source": [
    "# Finding the Optimal Number of Clusters with the help of Elbow Curve/ SSD\n",
    "ssd = []\n",
    "range_n_clusters = [2, 3, 4, 5, 6, 7, 8, 9, 10, 11, 12]\n",
    "for num_clusters in range_n_clusters:\n",
    "    kmeans = KMeans(n_clusters=num_clusters, max_iter=100)\n",
    "    kmeans.fit(df_rfm_scaled)\n",
    "    \n",
    "    ssd.append(kmeans.inertia_)\n",
    "    \n",
    "# plot the SSDs for each n_clusters\n",
    "plt.plot(range_n_clusters,ssd);"
   ]
  },
  {
   "cell_type": "code",
   "execution_count": 41,
   "id": "815bd3c4",
   "metadata": {},
   "outputs": [
    {
     "data": {
      "text/html": [
       "<div>\n",
       "<style scoped>\n",
       "    .dataframe tbody tr th:only-of-type {\n",
       "        vertical-align: middle;\n",
       "    }\n",
       "\n",
       "    .dataframe tbody tr th {\n",
       "        vertical-align: top;\n",
       "    }\n",
       "\n",
       "    .dataframe thead th {\n",
       "        text-align: right;\n",
       "    }\n",
       "</style>\n",
       "<table border=\"1\" class=\"dataframe\">\n",
       "  <thead>\n",
       "    <tr style=\"text-align: right;\">\n",
       "      <th></th>\n",
       "      <th>clusters</th>\n",
       "      <th>intertia</th>\n",
       "    </tr>\n",
       "  </thead>\n",
       "  <tbody>\n",
       "    <tr>\n",
       "      <th>0</th>\n",
       "      <td>2</td>\n",
       "      <td>7113.097396</td>\n",
       "    </tr>\n",
       "    <tr>\n",
       "      <th>1</th>\n",
       "      <td>3</td>\n",
       "      <td>5343.115435</td>\n",
       "    </tr>\n",
       "    <tr>\n",
       "      <th>2</th>\n",
       "      <td>4</td>\n",
       "      <td>4481.024256</td>\n",
       "    </tr>\n",
       "    <tr>\n",
       "      <th>3</th>\n",
       "      <td>5</td>\n",
       "      <td>3730.838474</td>\n",
       "    </tr>\n",
       "    <tr>\n",
       "      <th>4</th>\n",
       "      <td>6</td>\n",
       "      <td>3044.793367</td>\n",
       "    </tr>\n",
       "    <tr>\n",
       "      <th>5</th>\n",
       "      <td>7</td>\n",
       "      <td>2605.826255</td>\n",
       "    </tr>\n",
       "    <tr>\n",
       "      <th>6</th>\n",
       "      <td>8</td>\n",
       "      <td>2301.172692</td>\n",
       "    </tr>\n",
       "    <tr>\n",
       "      <th>7</th>\n",
       "      <td>9</td>\n",
       "      <td>2045.838544</td>\n",
       "    </tr>\n",
       "    <tr>\n",
       "      <th>8</th>\n",
       "      <td>10</td>\n",
       "      <td>1852.943004</td>\n",
       "    </tr>\n",
       "    <tr>\n",
       "      <th>9</th>\n",
       "      <td>11</td>\n",
       "      <td>1700.397856</td>\n",
       "    </tr>\n",
       "    <tr>\n",
       "      <th>10</th>\n",
       "      <td>12</td>\n",
       "      <td>1577.081020</td>\n",
       "    </tr>\n",
       "  </tbody>\n",
       "</table>\n",
       "</div>"
      ],
      "text/plain": [
       "    clusters     intertia\n",
       "0          2  7113.097396\n",
       "1          3  5343.115435\n",
       "2          4  4481.024256\n",
       "3          5  3730.838474\n",
       "4          6  3044.793367\n",
       "5          7  2605.826255\n",
       "6          8  2301.172692\n",
       "7          9  2045.838544\n",
       "8         10  1852.943004\n",
       "9         11  1700.397856\n",
       "10        12  1577.081020"
      ]
     },
     "execution_count": 41,
     "metadata": {},
     "output_type": "execute_result"
    }
   ],
   "source": [
    "# Creating dataframe for exporting to create visualization in tableau later\n",
    "df_inertia = pd.DataFrame(list(zip(range_n_clusters, ssd)), columns=['clusters', 'intertia'])\n",
    "df_inertia"
   ]
  },
  {
   "cell_type": "code",
   "execution_count": 42,
   "id": "4c87aa35",
   "metadata": {},
   "outputs": [
    {
     "name": "stdout",
     "output_type": "stream",
     "text": [
      "For n_clusters=2, the silhouette score is 0.44132753537785846\n",
      "For n_clusters=3, the silhouette score is 0.3803019251906771\n",
      "For n_clusters=4, the silhouette score is 0.3623606426972478\n",
      "For n_clusters=5, the silhouette score is 0.3438837918281012\n",
      "For n_clusters=6, the silhouette score is 0.3443915151384028\n",
      "For n_clusters=7, the silhouette score is 0.3428617732216645\n",
      "For n_clusters=8, the silhouette score is 0.3354671816479655\n",
      "For n_clusters=9, the silhouette score is 0.3464234161259565\n",
      "For n_clusters=10, the silhouette score is 0.35706878411373083\n"
     ]
    }
   ],
   "source": [
    "# Finding the Optimal Number of Clusters with the help of Silhouette Analysis\n",
    "range_n_clusters = [2, 3, 4, 5, 6, 7, 8, 9, 10]\n",
    "\n",
    "for num_clusters in range_n_clusters:    \n",
    "    kmeans = KMeans(n_clusters=num_clusters, max_iter=50)\n",
    "    kmeans.fit(df_rfm_scaled)\n",
    "    \n",
    "    cluster_labels = kmeans.labels_\n",
    "    \n",
    "    silhouette_avg = silhouette_score(df_rfm_scaled, cluster_labels)\n",
    "    print(\"For n_clusters={0}, the silhouette score is {1}\".format(num_clusters, silhouette_avg))"
   ]
  },
  {
   "cell_type": "markdown",
   "id": "c7100eb1",
   "metadata": {},
   "source": [
    "We can select optimum number of clusters as 3 in our final model"
   ]
  },
  {
   "cell_type": "code",
   "execution_count": 43,
   "id": "2cb1deb8",
   "metadata": {},
   "outputs": [
    {
     "data": {
      "text/plain": [
       "KMeans(max_iter=50, n_clusters=3)"
      ]
     },
     "execution_count": 43,
     "metadata": {},
     "output_type": "execute_result"
    }
   ],
   "source": [
    "# Final model with k=3\n",
    "kmeans = KMeans(n_clusters=3, max_iter=50)\n",
    "kmeans.fit(df_rfm_scaled)"
   ]
  },
  {
   "cell_type": "markdown",
   "id": "60a74305",
   "metadata": {},
   "source": [
    "**c. Analyze these clusters and comment on the results.**"
   ]
  },
  {
   "cell_type": "code",
   "execution_count": 44,
   "id": "b3ebf3b3",
   "metadata": {},
   "outputs": [
    {
     "data": {
      "text/html": [
       "<div>\n",
       "<style scoped>\n",
       "    .dataframe tbody tr th:only-of-type {\n",
       "        vertical-align: middle;\n",
       "    }\n",
       "\n",
       "    .dataframe tbody tr th {\n",
       "        vertical-align: top;\n",
       "    }\n",
       "\n",
       "    .dataframe thead th {\n",
       "        text-align: right;\n",
       "    }\n",
       "</style>\n",
       "<table border=\"1\" class=\"dataframe\">\n",
       "  <thead>\n",
       "    <tr style=\"text-align: right;\">\n",
       "      <th></th>\n",
       "      <th>CustomerID</th>\n",
       "      <th>Recency</th>\n",
       "      <th>Frequency</th>\n",
       "      <th>Monetary</th>\n",
       "      <th>recency_labels</th>\n",
       "      <th>frequency_labels</th>\n",
       "      <th>monetary_labels</th>\n",
       "      <th>rfm_segment</th>\n",
       "      <th>rfm_score</th>\n",
       "      <th>Cluster_Id</th>\n",
       "    </tr>\n",
       "  </thead>\n",
       "  <tbody>\n",
       "    <tr>\n",
       "      <th>0</th>\n",
       "      <td>12346.0</td>\n",
       "      <td>326</td>\n",
       "      <td>2</td>\n",
       "      <td>0.00</td>\n",
       "      <td>oldest</td>\n",
       "      <td>lowest</td>\n",
       "      <td>smallest</td>\n",
       "      <td>oldest-lowest-smallest</td>\n",
       "      <td>3</td>\n",
       "      <td>0</td>\n",
       "    </tr>\n",
       "    <tr>\n",
       "      <th>1</th>\n",
       "      <td>12347.0</td>\n",
       "      <td>2</td>\n",
       "      <td>7</td>\n",
       "      <td>4310.00</td>\n",
       "      <td>newest</td>\n",
       "      <td>lowest</td>\n",
       "      <td>smallest</td>\n",
       "      <td>newest-lowest-smallest</td>\n",
       "      <td>7</td>\n",
       "      <td>2</td>\n",
       "    </tr>\n",
       "    <tr>\n",
       "      <th>2</th>\n",
       "      <td>12348.0</td>\n",
       "      <td>75</td>\n",
       "      <td>4</td>\n",
       "      <td>1797.24</td>\n",
       "      <td>newest</td>\n",
       "      <td>lowest</td>\n",
       "      <td>smallest</td>\n",
       "      <td>newest-lowest-smallest</td>\n",
       "      <td>7</td>\n",
       "      <td>1</td>\n",
       "    </tr>\n",
       "    <tr>\n",
       "      <th>3</th>\n",
       "      <td>12349.0</td>\n",
       "      <td>19</td>\n",
       "      <td>1</td>\n",
       "      <td>1757.55</td>\n",
       "      <td>newest</td>\n",
       "      <td>lowest</td>\n",
       "      <td>smallest</td>\n",
       "      <td>newest-lowest-smallest</td>\n",
       "      <td>7</td>\n",
       "      <td>0</td>\n",
       "    </tr>\n",
       "    <tr>\n",
       "      <th>4</th>\n",
       "      <td>12350.0</td>\n",
       "      <td>310</td>\n",
       "      <td>1</td>\n",
       "      <td>334.40</td>\n",
       "      <td>oldest</td>\n",
       "      <td>lowest</td>\n",
       "      <td>smallest</td>\n",
       "      <td>oldest-lowest-smallest</td>\n",
       "      <td>3</td>\n",
       "      <td>0</td>\n",
       "    </tr>\n",
       "  </tbody>\n",
       "</table>\n",
       "</div>"
      ],
      "text/plain": [
       "  CustomerID  Recency  Frequency  Monetary recency_labels frequency_labels  \\\n",
       "0    12346.0      326          2      0.00         oldest           lowest   \n",
       "1    12347.0        2          7   4310.00         newest           lowest   \n",
       "2    12348.0       75          4   1797.24         newest           lowest   \n",
       "3    12349.0       19          1   1757.55         newest           lowest   \n",
       "4    12350.0      310          1    334.40         oldest           lowest   \n",
       "\n",
       "  monetary_labels             rfm_segment  rfm_score  Cluster_Id  \n",
       "0        smallest  oldest-lowest-smallest          3           0  \n",
       "1        smallest  newest-lowest-smallest          7           2  \n",
       "2        smallest  newest-lowest-smallest          7           1  \n",
       "3        smallest  newest-lowest-smallest          7           0  \n",
       "4        smallest  oldest-lowest-smallest          3           0  "
      ]
     },
     "execution_count": 44,
     "metadata": {},
     "output_type": "execute_result"
    }
   ],
   "source": [
    "# assign the label\n",
    "df_rfm['Cluster_Id'] = kmeans.labels_\n",
    "df_rfm.head()"
   ]
  },
  {
   "cell_type": "code",
   "execution_count": 45,
   "id": "a0d7bae0",
   "metadata": {},
   "outputs": [
    {
     "data": {
      "image/png": "[encoded data removed]",
      "text/plain": [
       "<Figure size 432x288 with 1 Axes>"
      ]
     },
     "metadata": {
      "needs_background": "light"
     },
     "output_type": "display_data"
    }
   ],
   "source": [
    "# Box plot to visualize Cluster Id vs Monetary\n",
    "sns.boxplot(x='Cluster_Id', y='Monetary', data=df_rfm);"
   ]
  },
  {
   "cell_type": "code",
   "execution_count": 46,
   "id": "a009b86d",
   "metadata": {},
   "outputs": [
    {
     "data": {
      "image/png": "[encoded data removed]",
      "text/plain": [
       "<Figure size 432x288 with 1 Axes>"
      ]
     },
     "metadata": {
      "needs_background": "light"
     },
     "output_type": "display_data"
    }
   ],
   "source": [
    "# Box plot to visualize Cluster Id vs Frequency\n",
    "sns.boxplot(x='Cluster_Id', y='Frequency', data=df_rfm);"
   ]
  },
  {
   "cell_type": "code",
   "execution_count": 47,
   "id": "f3689ea0",
   "metadata": {},
   "outputs": [
    {
     "data": {
      "image/png": "[encoded data removed]",
      "text/plain": [
       "<Figure size 432x288 with 1 Axes>"
      ]
     },
     "metadata": {
      "needs_background": "light"
     },
     "output_type": "display_data"
    }
   ],
   "source": [
    "# Box plot to visualize Cluster Id vs Recency\n",
    "sns.boxplot(x='Cluster_Id', y='Recency', data=df_rfm);"
   ]
  },
  {
   "cell_type": "markdown",
   "id": "8adfcc25",
   "metadata": {},
   "source": [
    "### Inference:\n",
    "\n",
    "As we can observe from above boxplots that our model has nicely created 3 segements of customer with the interpretation as below:\n",
    "* Customers with Cluster Id 0 are less frequent buyers with low monetary expenditure and also they have not purchased anything in recent time and hence least important for business.\n",
    "* Customers with Cluster Id 1 are the customers having Recency, Frequency and Monetary score in the medium range.\n",
    "* Customers with Cluster Id 2 are the most frequent buyers, spending high amount and recently placing orders so they are the most important customers from business point of view."
   ]
  },
  {
   "cell_type": "markdown",
   "id": "9998ae0a",
   "metadata": {},
   "source": [
    "## Week 4: \n",
    "**Data Reporting:**\n",
    "1. Create a dashboard in tableau by choosing appropriate chart types and metrics useful for the business. The dashboard must entail the following:\n",
    "\n",
    "        a. Country-wise analysis to demonstrate average spend. Use a bar chart to show the monthly figures\n",
    "        b. Bar graph of top 15 products which are mostly ordered by the users to show the number of products sold\n",
    "        c. Bar graph to show the count of orders vs. hours throughout the day\n",
    "        d. Plot the distribution of RFM values using histogram and frequency charts\n",
    "        e. Plot error (cost) vs. number of clusters selected\n",
    "        f. Visualize to compare the RFM values of the clusters using heatmap"
   ]
  },
  {
   "cell_type": "code",
   "execution_count": 48,
   "id": "55eee52e",
   "metadata": {},
   "outputs": [],
   "source": [
    "# Writing dataframe to excel file for creating visualization in tableau\n",
    "writer = pd.ExcelWriter('C:\\\\Users\\\\mgupt\\\\mgpython\\\\Capstone Project\\\\Retail - PGP\\\\output_data.xlsx', engine='xlsxwriter')\n",
    "\n",
    "df.to_excel(writer, sheet_name='master_data', index=False)\n",
    "df_rfm.to_excel(writer, sheet_name='rfm_data', index=False)\n",
    "df_inertia.to_excel(writer, sheet_name='inertia', index=False)\n",
    "writer.save()"
   ]
  },
  {
   "cell_type": "code",
   "execution_count": 49,
   "id": "5219586f",
   "metadata": {},
   "outputs": [],
   "source": [
    "product_desc = pd.read_excel(\"Online Retail.xlsx\")\n",
    "product_desc = product_desc[['StockCode', 'Description']]\n",
    "product_desc = product_desc.drop_duplicates()\n",
    "product_desc.to_csv('product_desc.csv', index=False)"
   ]
  },
  {
   "cell_type": "markdown",
   "id": "667e95c3",
   "metadata": {},
   "source": [
    "## *Please refer Dashboard created in Tableau for visualization and graphs*"
   ]
  }
 ],
 "metadata": {
  "kernelspec": {
   "display_name": "Python 3 (ipykernel)",
   "language": "python",
   "name": "python3"
  },
  "language_info": {
   "codemirror_mode": {
    "name": "ipython",
    "version": 3
   },
   "file_extension": ".py",
   "mimetype": "text/x-python",
   "name": "python",
   "nbconvert_exporter": "python",
   "pygments_lexer": "ipython3",
   "version": "3.10.9"
  }
 },
 "nbformat": 4,
 "nbformat_minor": 5
}
